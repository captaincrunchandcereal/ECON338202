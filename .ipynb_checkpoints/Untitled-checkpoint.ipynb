{
 "cells": [
  {
   "cell_type": "code",
   "execution_count": 1,
   "metadata": {
    "collapsed": false
   },
   "outputs": [
    {
     "name": "stdout",
     "output_type": "stream",
     "text": [
      "Requirement already satisfied (use --upgrade to upgrade): googlefinance in c:\\users\\jerry\\anaconda2\\lib\\site-packages\n"
     ]
    },
    {
     "name": "stderr",
     "output_type": "stream",
     "text": [
      "You are using pip version 8.1.2, however version 9.0.1 is available.\n",
      "You should consider upgrading via the 'python -m pip install --upgrade pip' command.\n"
     ]
    }
   ],
   "source": [
    "!pip install googlefinance\n",
    "import googlefinance as googlefin"
   ]
  },
  {
   "cell_type": "code",
   "execution_count": 2,
   "metadata": {
    "collapsed": false
   },
   "outputs": [
    {
     "name": "stdout",
     "output_type": "stream",
     "text": [
      "Requirement already satisfied (use --upgrade to upgrade): pytrends in c:\\users\\jerry\\anaconda2\\lib\\site-packages\n",
      "Requirement already satisfied (use --upgrade to upgrade): BeautifulSoup4 in c:\\users\\jerry\\anaconda2\\lib\\site-packages (from pytrends)\n",
      "Requirement already satisfied (use --upgrade to upgrade): lxml in c:\\users\\jerry\\anaconda2\\lib\\site-packages (from pytrends)\n",
      "Requirement already satisfied (use --upgrade to upgrade): pandas in c:\\users\\jerry\\anaconda2\\lib\\site-packages (from pytrends)\n",
      "Requirement already satisfied (use --upgrade to upgrade): requests in c:\\users\\jerry\\anaconda2\\lib\\site-packages (from pytrends)\n",
      "Requirement already satisfied (use --upgrade to upgrade): python-dateutil in c:\\users\\jerry\\anaconda2\\lib\\site-packages (from pandas->pytrends)\n",
      "Requirement already satisfied (use --upgrade to upgrade): pytz>=2011k in c:\\users\\jerry\\anaconda2\\lib\\site-packages (from pandas->pytrends)\n",
      "Requirement already satisfied (use --upgrade to upgrade): numpy>=1.7.0 in c:\\users\\jerry\\anaconda2\\lib\\site-packages (from pandas->pytrends)\n",
      "Requirement already satisfied (use --upgrade to upgrade): six>=1.5 in c:\\users\\jerry\\anaconda2\\lib\\site-packages (from python-dateutil->pandas->pytrends)\n"
     ]
    },
    {
     "name": "stderr",
     "output_type": "stream",
     "text": [
      "You are using pip version 8.1.2, however version 9.0.1 is available.\n",
      "You should consider upgrading via the 'python -m pip install --upgrade pip' command.\n"
     ]
    }
   ],
   "source": [
    "!pip install pytrends\n",
    "import pytrends as pyt\n",
    "from pytrends.request import TrendReq"
   ]
  },
  {
   "cell_type": "code",
   "execution_count": 3,
   "metadata": {
    "collapsed": false
   },
   "outputs": [
    {
     "name": "stdout",
     "output_type": "stream",
     "text": [
      "Requirement already satisfied (use --upgrade to upgrade): yahoo-finance in c:\\users\\jerry\\anaconda2\\lib\\site-packages\n",
      "Requirement already satisfied (use --upgrade to upgrade): pytz in c:\\users\\jerry\\anaconda2\\lib\\site-packages (from yahoo-finance)\n",
      "Requirement already satisfied (use --upgrade to upgrade): simplejson in c:\\users\\jerry\\anaconda2\\lib\\site-packages (from yahoo-finance)\n"
     ]
    },
    {
     "name": "stderr",
     "output_type": "stream",
     "text": [
      "You are using pip version 8.1.2, however version 9.0.1 is available.\n",
      "You should consider upgrading via the 'python -m pip install --upgrade pip' command.\n"
     ]
    }
   ],
   "source": [
    "!pip install yahoo-finance\n",
    "import yahoo_finance as yahoofin\n",
    "from yahoo_finance import Share"
   ]
  },
  {
   "cell_type": "code",
   "execution_count": 4,
   "metadata": {
    "collapsed": false
   },
   "outputs": [
    {
     "name": "stdout",
     "output_type": "stream",
     "text": [
      "Requirement already satisfied (use --upgrade to upgrade): schedule in c:\\users\\jerry\\anaconda2\\lib\\site-packages\n"
     ]
    },
    {
     "name": "stderr",
     "output_type": "stream",
     "text": [
      "You are using pip version 8.1.2, however version 9.0.1 is available.\n",
      "You should consider upgrading via the 'python -m pip install --upgrade pip' command.\n"
     ]
    }
   ],
   "source": [
    "!pip install schedule\n",
    "import schedule\n",
    "import time"
   ]
  },
  {
   "cell_type": "code",
   "execution_count": 5,
   "metadata": {
    "collapsed": true
   },
   "outputs": [],
   "source": [
    "import pandas as pd"
   ]
  },
  {
   "cell_type": "code",
   "execution_count": 31,
   "metadata": {
    "collapsed": true
   },
   "outputs": [],
   "source": [
    "from datetime import datetime\n",
    "from threading import Timer"
   ]
  },
  {
   "cell_type": "code",
   "execution_count": 6,
   "metadata": {
    "collapsed": false
   },
   "outputs": [],
   "source": [
    "cmplst = pd.read_csv('companylist.csv')"
   ]
  },
  {
   "cell_type": "code",
   "execution_count": 7,
   "metadata": {
    "collapsed": true
   },
   "outputs": [],
   "source": [
    "google_username = 'captaincrunchandcereal@gmail.com'\n",
    "google_password = 'econ338202'\n",
    "\n",
    "path = \"\"\n",
    "\n",
    "#connect to Google\n",
    "pytrend = TrendReq(google_username, google_password, custom_useragent = 'My Pytrends Script')"
   ]
  },
  {
   "cell_type": "code",
   "execution_count": 8,
   "metadata": {
    "collapsed": true
   },
   "outputs": [],
   "source": [
    "def google_query(company):\n",
    "    trend_payload = {'q':company, 'date' : 'today 3-m'}\n",
    "    trend = pytrend.trend(trend_payload)\n",
    "    df1 = pytrend.trend(trend_payload, return_type = 'dataframe')\n",
    "    return df1"
   ]
  },
  {
   "cell_type": "code",
   "execution_count": 16,
   "metadata": {
    "collapsed": false
   },
   "outputs": [
    {
     "name": "stdout",
     "output_type": "stream",
     "text": [
      "            aker\n",
      "Date            \n",
      "2016-11-11  54.0\n",
      "2016-11-12  61.0\n",
      "2016-11-13   NaN\n",
      "2016-11-14   NaN\n",
      "2016-11-15   NaN\n"
     ]
    },
    {
     "data": {
      "text/plain": [
       "1157    ZIONZ\n",
       "1158     ZSAN\n",
       "1159      ZTO\n",
       "Name: Symbol, dtype: object"
      ]
     },
     "execution_count": 16,
     "metadata": {},
     "output_type": "execute_result"
    }
   ],
   "source": [
    "print google_query('AKER').tail(5)\n",
    "#print cmplst.head(3)\n",
    "#print cmplst.T.ix[0].head(5)\n",
    "\n",
    "tickers = cmplst.T.ix[0]\n",
    "cmplst.T.ix[0].tail(3)"
   ]
  },
  {
   "cell_type": "code",
   "execution_count": 45,
   "metadata": {
    "collapsed": false
   },
   "outputs": [
    {
     "data": {
      "text/plain": [
       "Every 1 day at 21:12:00 do job() (last run: [never], next run: 2016-11-14 21:12:00)"
      ]
     },
     "execution_count": 45,
     "metadata": {},
     "output_type": "execute_result"
    }
   ],
   "source": [
    "def task(i):\n",
    "    google_query(i).to_csv(i)\n",
    "    !git add .\n",
    "    !git commit -m \"replace\"\n",
    "    !git remote add origin https://github.com/captaincrunchandcereal/ECON338202.git\n",
    "    !git remote -v\n",
    "    !git push -f origin master\n",
    "def job():\n",
    "    for i in tickers:\n",
    "        Timer(40, task(i), ()).start()\n",
    "\n",
    "#schedule.do(job)\n",
    "schedule.every().day.at(\"19:04\").do(job)"
   ]
  },
  {
   "cell_type": "code",
   "execution_count": 44,
   "metadata": {
    "collapsed": true
   },
   "outputs": [],
   "source": [
    "#STOP\n",
    "schedule.clear()\n"
   ]
  },
  {
   "cell_type": "code",
   "execution_count": 46,
   "metadata": {
    "collapsed": false
   },
   "outputs": [
    {
     "name": "stderr",
     "output_type": "stream",
     "text": [
      "warning: LF will be replaced by CRLF in Untitled.ipynb.\n",
      "The file will have its original line endings in your working directory.\n"
     ]
    },
    {
     "name": "stdout",
     "output_type": "stream",
     "text": [
      "[master d10ede3] replace\n",
      " 1 file changed, 7 insertions(+), 7 deletions(-)\n"
     ]
    },
    {
     "name": "stderr",
     "output_type": "stream",
     "text": [
      "fatal: remote origin already exists.\n"
     ]
    },
    {
     "name": "stdout",
     "output_type": "stream",
     "text": [
      "origin\thttps://github.com/captaincrunchandcereal/ECON338202.git (fetch)\n",
      "origin\thttps://github.com/captaincrunchandcereal/ECON338202.git (push)\n"
     ]
    },
    {
     "name": "stderr",
     "output_type": "stream",
     "text": [
      "git: 'credential---add' is not a git command. See 'git --help'.\n",
      "git: 'credential---add' is not a git command. See 'git --help'.\n",
      "git credential-'store store: -c: line 0: unexpected EOF while looking for matching `''\n",
      "git credential-'store store: -c: line 1: syntax error: unexpected end of file\n",
      "git credential-'store store: -c: line 0: unexpected EOF while looking for matching `''\n",
      "git credential-'store store: -c: line 1: syntax error: unexpected end of file\n",
      "git credential-'store store: -c: line 0: unexpected EOF while looking for matching `''\n",
      "git credential-'store store: -c: line 1: syntax error: unexpected end of file\n",
      "git credential-'store store: -c: line 0: unexpected EOF while looking for matching `''\n",
      "git credential-'store store: -c: line 1: syntax error: unexpected end of file\n",
      "git credential-'store store: -c: line 0: unexpected EOF while looking for matching `''\n",
      "git credential-'store store: -c: line 1: syntax error: unexpected end of file\n",
      "git credential-'store store: -c: line 0: unexpected EOF while looking for matching `''\n",
      "git credential-'store store: -c: line 1: syntax error: unexpected end of file\n",
      "git credential-'store store: -c: line 0: unexpected EOF while looking for matching `''\n",
      "git credential-'store store: -c: line 1: syntax error: unexpected end of file\n",
      "git credential-'store store: -c: line 0: unexpected EOF while looking for matching `''\n",
      "git credential-'store store: -c: line 1: syntax error: unexpected end of file\n",
      "To https://github.com/captaincrunchandcereal/ECON338202.git\n",
      "   4e4470c..d10ede3  master -> master\n"
     ]
    },
    {
     "name": "stdout",
     "output_type": "stream",
     "text": [
      "On branch master\n",
      "Your branch is up-to-date with 'origin/master'.\n",
      "nothing to commit, working tree clean\n"
     ]
    },
    {
     "name": "stderr",
     "output_type": "stream",
     "text": [
      "fatal: remote origin already exists.\n"
     ]
    },
    {
     "name": "stdout",
     "output_type": "stream",
     "text": [
      "origin\thttps://github.com/captaincrunchandcereal/ECON338202.git (fetch)\n",
      "origin\thttps://github.com/captaincrunchandcereal/ECON338202.git (push)\n"
     ]
    },
    {
     "name": "stderr",
     "output_type": "stream",
     "text": [
      "git: 'credential---add' is not a git command. See 'git --help'.\n",
      "git: 'credential---add' is not a git command. See 'git --help'.\n",
      "git credential-'store store: -c: line 0: unexpected EOF while looking for matching `''\n",
      "git credential-'store store: -c: line 1: syntax error: unexpected end of file\n",
      "git credential-'store store: -c: line 0: unexpected EOF while looking for matching `''\n",
      "git credential-'store store: -c: line 1: syntax error: unexpected end of file\n",
      "git credential-'store store: -c: line 0: unexpected EOF while looking for matching `''\n",
      "git credential-'store store: -c: line 1: syntax error: unexpected end of file\n",
      "git credential-'store store: -c: line 0: unexpected EOF while looking for matching `''\n",
      "git credential-'store store: -c: line 1: syntax error: unexpected end of file\n",
      "git credential-'store store: -c: line 0: unexpected EOF while looking for matching `''\n",
      "git credential-'store store: -c: line 1: syntax error: unexpected end of file\n",
      "git credential-'store store: -c: line 0: unexpected EOF while looking for matching `''\n",
      "git credential-'store store: -c: line 1: syntax error: unexpected end of file\n",
      "git credential-'store store: -c: line 0: unexpected EOF while looking for matching `''\n",
      "git credential-'store store: -c: line 1: syntax error: unexpected end of file\n",
      "git credential-'store store: -c: line 0: unexpected EOF while looking for matching `''\n",
      "git credential-'store store: -c: line 1: syntax error: unexpected end of file\n",
      "Everything up-to-date\n"
     ]
    },
    {
     "name": "stdout",
     "output_type": "stream",
     "text": [
      "On branch master\n",
      "Your branch is up-to-date with 'origin/master'.\n",
      "nothing to commit, working tree clean\n"
     ]
    },
    {
     "name": "stderr",
     "output_type": "stream",
     "text": [
      "fatal: remote origin already exists.\n"
     ]
    },
    {
     "name": "stdout",
     "output_type": "stream",
     "text": [
      "origin\thttps://github.com/captaincrunchandcereal/ECON338202.git (fetch)\n",
      "origin\thttps://github.com/captaincrunchandcereal/ECON338202.git (push)\n"
     ]
    },
    {
     "name": "stderr",
     "output_type": "stream",
     "text": [
      "git: 'credential---add' is not a git command. See 'git --help'.\n",
      "git: 'credential---add' is not a git command. See 'git --help'.\n",
      "git credential-'store store: -c: line 0: unexpected EOF while looking for matching `''\n",
      "git credential-'store store: -c: line 1: syntax error: unexpected end of file\n",
      "git credential-'store store: -c: line 0: unexpected EOF while looking for matching `''\n",
      "git credential-'store store: -c: line 1: syntax error: unexpected end of file\n",
      "git credential-'store store: -c: line 0: unexpected EOF while looking for matching `''\n",
      "git credential-'store store: -c: line 1: syntax error: unexpected end of file\n",
      "git credential-'store store: -c: line 0: unexpected EOF while looking for matching `''\n",
      "git credential-'store store: -c: line 1: syntax error: unexpected end of file\n",
      "git credential-'store store: -c: line 0: unexpected EOF while looking for matching `''\n",
      "git credential-'store store: -c: line 1: syntax error: unexpected end of file\n",
      "git credential-'store store: -c: line 0: unexpected EOF while looking for matching `''\n",
      "git credential-'store store: -c: line 1: syntax error: unexpected end of file\n",
      "git credential-'store store: -c: line 0: unexpected EOF while looking for matching `''\n",
      "git credential-'store store: -c: line 1: syntax error: unexpected end of file\n",
      "git credential-'store store: -c: line 0: unexpected EOF while looking for matching `''\n",
      "git credential-'store store: -c: line 1: syntax error: unexpected end of file\n",
      "Everything up-to-date\n"
     ]
    },
    {
     "name": "stdout",
     "output_type": "stream",
     "text": [
      "On branch master\n",
      "Your branch is up-to-date with 'origin/master'.\n",
      "nothing to commit, working tree clean\n"
     ]
    },
    {
     "name": "stderr",
     "output_type": "stream",
     "text": [
      "fatal: remote origin already exists.\n"
     ]
    },
    {
     "name": "stdout",
     "output_type": "stream",
     "text": [
      "origin\thttps://github.com/captaincrunchandcereal/ECON338202.git (fetch)\n",
      "origin\thttps://github.com/captaincrunchandcereal/ECON338202.git (push)\n"
     ]
    },
    {
     "name": "stderr",
     "output_type": "stream",
     "text": [
      "git: 'credential---add' is not a git command. See 'git --help'.\n",
      "git: 'credential---add' is not a git command. See 'git --help'.\n",
      "git credential-'store store: -c: line 0: unexpected EOF while looking for matching `''\n",
      "git credential-'store store: -c: line 1: syntax error: unexpected end of file\n",
      "git credential-'store store: -c: line 0: unexpected EOF while looking for matching `''\n",
      "git credential-'store store: -c: line 1: syntax error: unexpected end of file\n",
      "git credential-'store store: -c: line 0: unexpected EOF while looking for matching `''\n",
      "git credential-'store store: -c: line 1: syntax error: unexpected end of file\n",
      "git credential-'store store: -c: line 0: unexpected EOF while looking for matching `''\n",
      "git credential-'store store: -c: line 1: syntax error: unexpected end of file\n",
      "git credential-'store store: -c: line 0: unexpected EOF while looking for matching `''\n",
      "git credential-'store store: -c: line 1: syntax error: unexpected end of file\n",
      "git credential-'store store: -c: line 0: unexpected EOF while looking for matching `''\n",
      "git credential-'store store: -c: line 1: syntax error: unexpected end of file\n",
      "git credential-'store store: -c: line 0: unexpected EOF while looking for matching `''\n",
      "git credential-'store store: -c: line 1: syntax error: unexpected end of file\n",
      "git credential-'store store: -c: line 0: unexpected EOF while looking for matching `''\n",
      "git credential-'store store: -c: line 1: syntax error: unexpected end of file\n",
      "Everything up-to-date\n"
     ]
    },
    {
     "name": "stdout",
     "output_type": "stream",
     "text": [
      "On branch master\n",
      "Your branch is up-to-date with 'origin/master'.\n",
      "nothing to commit, working tree clean\n"
     ]
    },
    {
     "name": "stderr",
     "output_type": "stream",
     "text": [
      "fatal: remote origin already exists.\n"
     ]
    },
    {
     "name": "stdout",
     "output_type": "stream",
     "text": [
      "origin\thttps://github.com/captaincrunchandcereal/ECON338202.git (fetch)\n",
      "origin\thttps://github.com/captaincrunchandcereal/ECON338202.git (push)\n"
     ]
    },
    {
     "name": "stderr",
     "output_type": "stream",
     "text": [
      "git: 'credential---add' is not a git command. See 'git --help'.\n",
      "git: 'credential---add' is not a git command. See 'git --help'.\n",
      "git credential-'store store: -c: line 0: unexpected EOF while looking for matching `''\n",
      "git credential-'store store: -c: line 1: syntax error: unexpected end of file\n",
      "git credential-'store store: -c: line 0: unexpected EOF while looking for matching `''\n",
      "git credential-'store store: -c: line 1: syntax error: unexpected end of file\n",
      "git credential-'store store: -c: line 0: unexpected EOF while looking for matching `''\n",
      "git credential-'store store: -c: line 1: syntax error: unexpected end of file\n",
      "git credential-'store store: -c: line 0: unexpected EOF while looking for matching `''\n",
      "git credential-'store store: -c: line 1: syntax error: unexpected end of file\n",
      "git credential-'store store: -c: line 0: unexpected EOF while looking for matching `''\n",
      "git credential-'store store: -c: line 1: syntax error: unexpected end of file\n",
      "git credential-'store store: -c: line 0: unexpected EOF while looking for matching `''\n",
      "git credential-'store store: -c: line 1: syntax error: unexpected end of file\n",
      "git credential-'store store: -c: line 0: unexpected EOF while looking for matching `''\n",
      "git credential-'store store: -c: line 1: syntax error: unexpected end of file\n",
      "git credential-'store store: -c: line 0: unexpected EOF while looking for matching `''\n",
      "git credential-'store store: -c: line 1: syntax error: unexpected end of file\n",
      "Everything up-to-date\n"
     ]
    },
    {
     "name": "stdout",
     "output_type": "stream",
     "text": [
      "On branch master\n",
      "Your branch is up-to-date with 'origin/master'.\n",
      "nothing to commit, working tree clean\n"
     ]
    },
    {
     "name": "stderr",
     "output_type": "stream",
     "text": [
      "fatal: remote origin already exists.\n"
     ]
    },
    {
     "name": "stdout",
     "output_type": "stream",
     "text": [
      "origin\thttps://github.com/captaincrunchandcereal/ECON338202.git (fetch)\n",
      "origin\thttps://github.com/captaincrunchandcereal/ECON338202.git (push)\n"
     ]
    },
    {
     "name": "stderr",
     "output_type": "stream",
     "text": [
      "git: 'credential---add' is not a git command. See 'git --help'.\n",
      "git: 'credential---add' is not a git command. See 'git --help'.\n",
      "git credential-'store store: -c: line 0: unexpected EOF while looking for matching `''\n",
      "git credential-'store store: -c: line 1: syntax error: unexpected end of file\n",
      "git credential-'store store: -c: line 0: unexpected EOF while looking for matching `''\n",
      "git credential-'store store: -c: line 1: syntax error: unexpected end of file\n",
      "git credential-'store store: -c: line 0: unexpected EOF while looking for matching `''\n",
      "git credential-'store store: -c: line 1: syntax error: unexpected end of file\n",
      "git credential-'store store: -c: line 0: unexpected EOF while looking for matching `''\n",
      "git credential-'store store: -c: line 1: syntax error: unexpected end of file\n",
      "git credential-'store store: -c: line 0: unexpected EOF while looking for matching `''\n",
      "git credential-'store store: -c: line 1: syntax error: unexpected end of file\n",
      "git credential-'store store: -c: line 0: unexpected EOF while looking for matching `''\n",
      "git credential-'store store: -c: line 1: syntax error: unexpected end of file\n",
      "git credential-'store store: -c: line 0: unexpected EOF while looking for matching `''\n",
      "git credential-'store store: -c: line 1: syntax error: unexpected end of file\n",
      "git credential-'store store: -c: line 0: unexpected EOF while looking for matching `''\n",
      "git credential-'store store: -c: line 1: syntax error: unexpected end of file\n",
      "Everything up-to-date\n"
     ]
    },
    {
     "name": "stdout",
     "output_type": "stream",
     "text": [
      "[master 75223e7] replace\n",
      " 1 file changed, 93 insertions(+)\n",
      " create mode 100644 ACPW\n"
     ]
    },
    {
     "name": "stderr",
     "output_type": "stream",
     "text": [
      "fatal: remote origin already exists.\n"
     ]
    },
    {
     "name": "stdout",
     "output_type": "stream",
     "text": [
      "origin\thttps://github.com/captaincrunchandcereal/ECON338202.git (fetch)\n",
      "origin\thttps://github.com/captaincrunchandcereal/ECON338202.git (push)\n"
     ]
    },
    {
     "name": "stderr",
     "output_type": "stream",
     "text": [
      "git: 'credential---add' is not a git command. See 'git --help'.\n",
      "git: 'credential---add' is not a git command. See 'git --help'.\n",
      "git credential-'store store: -c: line 0: unexpected EOF while looking for matching `''\n",
      "git credential-'store store: -c: line 1: syntax error: unexpected end of file\n",
      "git credential-'store store: -c: line 0: unexpected EOF while looking for matching `''\n",
      "git credential-'store store: -c: line 1: syntax error: unexpected end of file\n",
      "git credential-'store store: -c: line 0: unexpected EOF while looking for matching `''\n",
      "git credential-'store store: -c: line 1: syntax error: unexpected end of file\n",
      "git credential-'store store: -c: line 0: unexpected EOF while looking for matching `''\n",
      "git credential-'store store: -c: line 1: syntax error: unexpected end of file\n",
      "git credential-'store store: -c: line 0: unexpected EOF while looking for matching `''\n",
      "git credential-'store store: -c: line 1: syntax error: unexpected end of file\n",
      "git credential-'store store: -c: line 0: unexpected EOF while looking for matching `''\n",
      "git credential-'store store: -c: line 1: syntax error: unexpected end of file\n",
      "git credential-'store store: -c: line 0: unexpected EOF while looking for matching `''\n",
      "git credential-'store store: -c: line 1: syntax error: unexpected end of file\n",
      "git credential-'store store: -c: line 0: unexpected EOF while looking for matching `''\n",
      "git credential-'store store: -c: line 1: syntax error: unexpected end of file\n",
      "To https://github.com/captaincrunchandcereal/ECON338202.git\n",
      "   d10ede3..75223e7  master -> master\n"
     ]
    },
    {
     "name": "stdout",
     "output_type": "stream",
     "text": [
      "[master 36c28d6] replace\n",
      " 1 file changed, 93 insertions(+)\n",
      " create mode 100644 ACUR\n"
     ]
    },
    {
     "name": "stderr",
     "output_type": "stream",
     "text": [
      "fatal: remote origin already exists.\n"
     ]
    },
    {
     "name": "stdout",
     "output_type": "stream",
     "text": [
      "origin\thttps://github.com/captaincrunchandcereal/ECON338202.git (fetch)\n",
      "origin\thttps://github.com/captaincrunchandcereal/ECON338202.git (push)\n"
     ]
    },
    {
     "name": "stderr",
     "output_type": "stream",
     "text": [
      "git: 'credential---add' is not a git command. See 'git --help'.\n",
      "git: 'credential---add' is not a git command. See 'git --help'.\n",
      "git credential-'store store: -c: line 0: unexpected EOF while looking for matching `''\n",
      "git credential-'store store: -c: line 1: syntax error: unexpected end of file\n",
      "git credential-'store store: -c: line 0: unexpected EOF while looking for matching `''\n",
      "git credential-'store store: -c: line 1: syntax error: unexpected end of file\n",
      "git credential-'store store: -c: line 0: unexpected EOF while looking for matching `''\n",
      "git credential-'store store: -c: line 1: syntax error: unexpected end of file\n",
      "git credential-'store store: -c: line 0: unexpected EOF while looking for matching `''\n",
      "git credential-'store store: -c: line 1: syntax error: unexpected end of file\n",
      "git credential-'store store: -c: line 0: unexpected EOF while looking for matching `''\n",
      "git credential-'store store: -c: line 1: syntax error: unexpected end of file\n",
      "git credential-'store store: -c: line 0: unexpected EOF while looking for matching `''\n",
      "git credential-'store store: -c: line 1: syntax error: unexpected end of file\n",
      "git credential-'store store: -c: line 0: unexpected EOF while looking for matching `''\n",
      "git credential-'store store: -c: line 1: syntax error: unexpected end of file\n",
      "git credential-'store store: -c: line 0: unexpected EOF while looking for matching `''\n",
      "git credential-'store store: -c: line 1: syntax error: unexpected end of file\n",
      "To https://github.com/captaincrunchandcereal/ECON338202.git\n",
      "   75223e7..36c28d6  master -> master\n"
     ]
    },
    {
     "name": "stdout",
     "output_type": "stream",
     "text": [
      "Exceeded Google's Rate Limit. Please use time.sleep() to space requests.\n"
     ]
    },
    {
     "ename": "RateLimitError",
     "evalue": "",
     "output_type": "error",
     "traceback": [
      "\u001b[0;31m---------------------------------------------------------------------------\u001b[0m",
      "\u001b[0;31mRateLimitError\u001b[0m                            Traceback (most recent call last)",
      "\u001b[0;32m<ipython-input-46-56261501501e>\u001b[0m in \u001b[0;36m<module>\u001b[0;34m()\u001b[0m\n\u001b[1;32m      1\u001b[0m \u001b[1;32mwhile\u001b[0m \u001b[0mTrue\u001b[0m\u001b[1;33m:\u001b[0m\u001b[1;33m\u001b[0m\u001b[0m\n\u001b[0;32m----> 2\u001b[0;31m     \u001b[0mschedule\u001b[0m\u001b[1;33m.\u001b[0m\u001b[0mrun_pending\u001b[0m\u001b[1;33m(\u001b[0m\u001b[1;33m)\u001b[0m\u001b[1;33m\u001b[0m\u001b[0m\n\u001b[0m\u001b[1;32m      3\u001b[0m     \u001b[1;31m#time.sleep(86400)\u001b[0m\u001b[1;33m\u001b[0m\u001b[1;33m\u001b[0m\u001b[0m\n",
      "\u001b[0;32mC:\\Users\\Jerry\\Anaconda2\\lib\\site-packages\\schedule\\__init__.pyc\u001b[0m in \u001b[0;36mrun_pending\u001b[0;34m()\u001b[0m\n\u001b[1;32m    365\u001b[0m     \u001b[0mbetween\u001b[0m \u001b[0mbut\u001b[0m \u001b[0monly\u001b[0m \u001b[0monce\u001b[0m\u001b[1;33m.\u001b[0m\u001b[1;33m\u001b[0m\u001b[0m\n\u001b[1;32m    366\u001b[0m     \"\"\"\n\u001b[0;32m--> 367\u001b[0;31m     \u001b[0mdefault_scheduler\u001b[0m\u001b[1;33m.\u001b[0m\u001b[0mrun_pending\u001b[0m\u001b[1;33m(\u001b[0m\u001b[1;33m)\u001b[0m\u001b[1;33m\u001b[0m\u001b[0m\n\u001b[0m\u001b[1;32m    368\u001b[0m \u001b[1;33m\u001b[0m\u001b[0m\n\u001b[1;32m    369\u001b[0m \u001b[1;33m\u001b[0m\u001b[0m\n",
      "\u001b[0;32mC:\\Users\\Jerry\\Anaconda2\\lib\\site-packages\\schedule\\__init__.pyc\u001b[0m in \u001b[0;36mrun_pending\u001b[0;34m(self)\u001b[0m\n\u001b[1;32m     62\u001b[0m         \u001b[0mrunnable_jobs\u001b[0m \u001b[1;33m=\u001b[0m \u001b[1;33m(\u001b[0m\u001b[0mjob\u001b[0m \u001b[1;32mfor\u001b[0m \u001b[0mjob\u001b[0m \u001b[1;32min\u001b[0m \u001b[0mself\u001b[0m\u001b[1;33m.\u001b[0m\u001b[0mjobs\u001b[0m \u001b[1;32mif\u001b[0m \u001b[0mjob\u001b[0m\u001b[1;33m.\u001b[0m\u001b[0mshould_run\u001b[0m\u001b[1;33m)\u001b[0m\u001b[1;33m\u001b[0m\u001b[0m\n\u001b[1;32m     63\u001b[0m         \u001b[1;32mfor\u001b[0m \u001b[0mjob\u001b[0m \u001b[1;32min\u001b[0m \u001b[0msorted\u001b[0m\u001b[1;33m(\u001b[0m\u001b[0mrunnable_jobs\u001b[0m\u001b[1;33m)\u001b[0m\u001b[1;33m:\u001b[0m\u001b[1;33m\u001b[0m\u001b[0m\n\u001b[0;32m---> 64\u001b[0;31m             \u001b[0mself\u001b[0m\u001b[1;33m.\u001b[0m\u001b[0m_run_job\u001b[0m\u001b[1;33m(\u001b[0m\u001b[0mjob\u001b[0m\u001b[1;33m)\u001b[0m\u001b[1;33m\u001b[0m\u001b[0m\n\u001b[0m\u001b[1;32m     65\u001b[0m \u001b[1;33m\u001b[0m\u001b[0m\n\u001b[1;32m     66\u001b[0m     \u001b[1;32mdef\u001b[0m \u001b[0mrun_all\u001b[0m\u001b[1;33m(\u001b[0m\u001b[0mself\u001b[0m\u001b[1;33m,\u001b[0m \u001b[0mdelay_seconds\u001b[0m\u001b[1;33m=\u001b[0m\u001b[1;36m0\u001b[0m\u001b[1;33m)\u001b[0m\u001b[1;33m:\u001b[0m\u001b[1;33m\u001b[0m\u001b[0m\n",
      "\u001b[0;32mC:\\Users\\Jerry\\Anaconda2\\lib\\site-packages\\schedule\\__init__.pyc\u001b[0m in \u001b[0;36m_run_job\u001b[0;34m(self, job)\u001b[0m\n\u001b[1;32m     94\u001b[0m \u001b[1;33m\u001b[0m\u001b[0m\n\u001b[1;32m     95\u001b[0m     \u001b[1;32mdef\u001b[0m \u001b[0m_run_job\u001b[0m\u001b[1;33m(\u001b[0m\u001b[0mself\u001b[0m\u001b[1;33m,\u001b[0m \u001b[0mjob\u001b[0m\u001b[1;33m)\u001b[0m\u001b[1;33m:\u001b[0m\u001b[1;33m\u001b[0m\u001b[0m\n\u001b[0;32m---> 96\u001b[0;31m         \u001b[0mret\u001b[0m \u001b[1;33m=\u001b[0m \u001b[0mjob\u001b[0m\u001b[1;33m.\u001b[0m\u001b[0mrun\u001b[0m\u001b[1;33m(\u001b[0m\u001b[1;33m)\u001b[0m\u001b[1;33m\u001b[0m\u001b[0m\n\u001b[0m\u001b[1;32m     97\u001b[0m         \u001b[1;32mif\u001b[0m \u001b[0misinstance\u001b[0m\u001b[1;33m(\u001b[0m\u001b[0mret\u001b[0m\u001b[1;33m,\u001b[0m \u001b[0mCancelJob\u001b[0m\u001b[1;33m)\u001b[0m \u001b[1;32mor\u001b[0m \u001b[0mret\u001b[0m \u001b[1;32mis\u001b[0m \u001b[0mCancelJob\u001b[0m\u001b[1;33m:\u001b[0m\u001b[1;33m\u001b[0m\u001b[0m\n\u001b[1;32m     98\u001b[0m             \u001b[0mself\u001b[0m\u001b[1;33m.\u001b[0m\u001b[0mcancel_job\u001b[0m\u001b[1;33m(\u001b[0m\u001b[0mjob\u001b[0m\u001b[1;33m)\u001b[0m\u001b[1;33m\u001b[0m\u001b[0m\n",
      "\u001b[0;32mC:\\Users\\Jerry\\Anaconda2\\lib\\site-packages\\schedule\\__init__.pyc\u001b[0m in \u001b[0;36mrun\u001b[0;34m(self)\u001b[0m\n\u001b[1;32m    291\u001b[0m         \u001b[1;34m\"\"\"Run the job and immediately reschedule it.\"\"\"\u001b[0m\u001b[1;33m\u001b[0m\u001b[0m\n\u001b[1;32m    292\u001b[0m         \u001b[0mlogger\u001b[0m\u001b[1;33m.\u001b[0m\u001b[0minfo\u001b[0m\u001b[1;33m(\u001b[0m\u001b[1;34m'Running job %s'\u001b[0m\u001b[1;33m,\u001b[0m \u001b[0mself\u001b[0m\u001b[1;33m)\u001b[0m\u001b[1;33m\u001b[0m\u001b[0m\n\u001b[0;32m--> 293\u001b[0;31m         \u001b[0mret\u001b[0m \u001b[1;33m=\u001b[0m \u001b[0mself\u001b[0m\u001b[1;33m.\u001b[0m\u001b[0mjob_func\u001b[0m\u001b[1;33m(\u001b[0m\u001b[1;33m)\u001b[0m\u001b[1;33m\u001b[0m\u001b[0m\n\u001b[0m\u001b[1;32m    294\u001b[0m         \u001b[0mself\u001b[0m\u001b[1;33m.\u001b[0m\u001b[0mlast_run\u001b[0m \u001b[1;33m=\u001b[0m \u001b[0mdatetime\u001b[0m\u001b[1;33m.\u001b[0m\u001b[0mdatetime\u001b[0m\u001b[1;33m.\u001b[0m\u001b[0mnow\u001b[0m\u001b[1;33m(\u001b[0m\u001b[1;33m)\u001b[0m\u001b[1;33m\u001b[0m\u001b[0m\n\u001b[1;32m    295\u001b[0m         \u001b[0mself\u001b[0m\u001b[1;33m.\u001b[0m\u001b[0m_schedule_next_run\u001b[0m\u001b[1;33m(\u001b[0m\u001b[1;33m)\u001b[0m\u001b[1;33m\u001b[0m\u001b[0m\n",
      "\u001b[0;32m<ipython-input-45-a3e02f7611e1>\u001b[0m in \u001b[0;36mjob\u001b[0;34m()\u001b[0m\n\u001b[1;32m      8\u001b[0m \u001b[1;32mdef\u001b[0m \u001b[0mjob\u001b[0m\u001b[1;33m(\u001b[0m\u001b[1;33m)\u001b[0m\u001b[1;33m:\u001b[0m\u001b[1;33m\u001b[0m\u001b[0m\n\u001b[1;32m      9\u001b[0m     \u001b[1;32mfor\u001b[0m \u001b[0mi\u001b[0m \u001b[1;32min\u001b[0m \u001b[0mtickers\u001b[0m\u001b[1;33m:\u001b[0m\u001b[1;33m\u001b[0m\u001b[0m\n\u001b[0;32m---> 10\u001b[0;31m         \u001b[0mTimer\u001b[0m\u001b[1;33m(\u001b[0m\u001b[1;36m40\u001b[0m\u001b[1;33m,\u001b[0m \u001b[0mtask\u001b[0m\u001b[1;33m(\u001b[0m\u001b[0mi\u001b[0m\u001b[1;33m)\u001b[0m\u001b[1;33m,\u001b[0m \u001b[1;33m(\u001b[0m\u001b[1;33m)\u001b[0m\u001b[1;33m)\u001b[0m\u001b[1;33m.\u001b[0m\u001b[0mstart\u001b[0m\u001b[1;33m(\u001b[0m\u001b[1;33m)\u001b[0m\u001b[1;33m\u001b[0m\u001b[0m\n\u001b[0m\u001b[1;32m     11\u001b[0m \u001b[1;33m\u001b[0m\u001b[0m\n\u001b[1;32m     12\u001b[0m \u001b[1;31m#schedule.do(job)\u001b[0m\u001b[1;33m\u001b[0m\u001b[1;33m\u001b[0m\u001b[0m\n",
      "\u001b[0;32m<ipython-input-45-a3e02f7611e1>\u001b[0m in \u001b[0;36mtask\u001b[0;34m(i)\u001b[0m\n\u001b[1;32m      1\u001b[0m \u001b[1;32mdef\u001b[0m \u001b[0mtask\u001b[0m\u001b[1;33m(\u001b[0m\u001b[0mi\u001b[0m\u001b[1;33m)\u001b[0m\u001b[1;33m:\u001b[0m\u001b[1;33m\u001b[0m\u001b[0m\n\u001b[0;32m----> 2\u001b[0;31m     \u001b[0mgoogle_query\u001b[0m\u001b[1;33m(\u001b[0m\u001b[0mi\u001b[0m\u001b[1;33m)\u001b[0m\u001b[1;33m.\u001b[0m\u001b[0mto_csv\u001b[0m\u001b[1;33m(\u001b[0m\u001b[0mi\u001b[0m\u001b[1;33m)\u001b[0m\u001b[1;33m\u001b[0m\u001b[0m\n\u001b[0m\u001b[1;32m      3\u001b[0m     \u001b[0mget_ipython\u001b[0m\u001b[1;33m(\u001b[0m\u001b[1;33m)\u001b[0m\u001b[1;33m.\u001b[0m\u001b[0msystem\u001b[0m\u001b[1;33m(\u001b[0m\u001b[1;34mu'git add .'\u001b[0m\u001b[1;33m)\u001b[0m\u001b[1;33m\u001b[0m\u001b[0m\n\u001b[1;32m      4\u001b[0m     \u001b[0mget_ipython\u001b[0m\u001b[1;33m(\u001b[0m\u001b[1;33m)\u001b[0m\u001b[1;33m.\u001b[0m\u001b[0msystem\u001b[0m\u001b[1;33m(\u001b[0m\u001b[1;34mu'git commit -m \"replace\"'\u001b[0m\u001b[1;33m)\u001b[0m\u001b[1;33m\u001b[0m\u001b[0m\n\u001b[1;32m      5\u001b[0m     \u001b[0mget_ipython\u001b[0m\u001b[1;33m(\u001b[0m\u001b[1;33m)\u001b[0m\u001b[1;33m.\u001b[0m\u001b[0msystem\u001b[0m\u001b[1;33m(\u001b[0m\u001b[1;34mu'git remote add origin https://github.com/captaincrunchandcereal/ECON338202.git'\u001b[0m\u001b[1;33m)\u001b[0m\u001b[1;33m\u001b[0m\u001b[0m\n",
      "\u001b[0;32m<ipython-input-8-bd1e7df5b310>\u001b[0m in \u001b[0;36mgoogle_query\u001b[0;34m(company)\u001b[0m\n\u001b[1;32m      1\u001b[0m \u001b[1;32mdef\u001b[0m \u001b[0mgoogle_query\u001b[0m\u001b[1;33m(\u001b[0m\u001b[0mcompany\u001b[0m\u001b[1;33m)\u001b[0m\u001b[1;33m:\u001b[0m\u001b[1;33m\u001b[0m\u001b[0m\n\u001b[1;32m      2\u001b[0m     \u001b[0mtrend_payload\u001b[0m \u001b[1;33m=\u001b[0m \u001b[1;33m{\u001b[0m\u001b[1;34m'q'\u001b[0m\u001b[1;33m:\u001b[0m\u001b[0mcompany\u001b[0m\u001b[1;33m,\u001b[0m \u001b[1;34m'date'\u001b[0m \u001b[1;33m:\u001b[0m \u001b[1;34m'today 3-m'\u001b[0m\u001b[1;33m}\u001b[0m\u001b[1;33m\u001b[0m\u001b[0m\n\u001b[0;32m----> 3\u001b[0;31m     \u001b[0mtrend\u001b[0m \u001b[1;33m=\u001b[0m \u001b[0mpytrend\u001b[0m\u001b[1;33m.\u001b[0m\u001b[0mtrend\u001b[0m\u001b[1;33m(\u001b[0m\u001b[0mtrend_payload\u001b[0m\u001b[1;33m)\u001b[0m\u001b[1;33m\u001b[0m\u001b[0m\n\u001b[0m\u001b[1;32m      4\u001b[0m     \u001b[0mdf1\u001b[0m \u001b[1;33m=\u001b[0m \u001b[0mpytrend\u001b[0m\u001b[1;33m.\u001b[0m\u001b[0mtrend\u001b[0m\u001b[1;33m(\u001b[0m\u001b[0mtrend_payload\u001b[0m\u001b[1;33m,\u001b[0m \u001b[0mreturn_type\u001b[0m \u001b[1;33m=\u001b[0m \u001b[1;34m'dataframe'\u001b[0m\u001b[1;33m)\u001b[0m\u001b[1;33m\u001b[0m\u001b[0m\n\u001b[1;32m      5\u001b[0m     \u001b[1;32mreturn\u001b[0m \u001b[0mdf1\u001b[0m\u001b[1;33m\u001b[0m\u001b[0m\n",
      "\u001b[0;32mC:\\Users\\Jerry\\Anaconda2\\lib\\site-packages\\pytrends\\request.pyc\u001b[0m in \u001b[0;36mtrend\u001b[0;34m(self, payload, return_type)\u001b[0m\n\u001b[1;32m     60\u001b[0m         \u001b[1;32mtry\u001b[0m\u001b[1;33m:\u001b[0m\u001b[1;33m\u001b[0m\u001b[0m\n\u001b[1;32m     61\u001b[0m             \u001b[1;32mif\u001b[0m \u001b[0mself\u001b[0m\u001b[1;33m.\u001b[0m\u001b[0mgoogle_rl\u001b[0m \u001b[1;32min\u001b[0m \u001b[0mreq\u001b[0m\u001b[1;33m.\u001b[0m\u001b[0mtext\u001b[0m\u001b[1;33m:\u001b[0m\u001b[1;33m\u001b[0m\u001b[0m\n\u001b[0;32m---> 62\u001b[0;31m                 \u001b[1;32mraise\u001b[0m \u001b[0mRateLimitError\u001b[0m\u001b[1;33m\u001b[0m\u001b[0m\n\u001b[0m\u001b[1;32m     63\u001b[0m             \u001b[1;31m# strip off js function call 'google.visualization.Query.setResponse();\u001b[0m\u001b[1;33m\u001b[0m\u001b[1;33m\u001b[0m\u001b[0m\n\u001b[1;32m     64\u001b[0m             \u001b[0mtext\u001b[0m \u001b[1;33m=\u001b[0m \u001b[0mreq\u001b[0m\u001b[1;33m.\u001b[0m\u001b[0mtext\u001b[0m\u001b[1;33m[\u001b[0m\u001b[1;36m62\u001b[0m\u001b[1;33m:\u001b[0m\u001b[1;33m-\u001b[0m\u001b[1;36m2\u001b[0m\u001b[1;33m]\u001b[0m\u001b[1;33m\u001b[0m\u001b[0m\n",
      "\u001b[0;31mRateLimitError\u001b[0m: "
     ]
    },
    {
     "name": "stderr",
     "output_type": "stream",
     "text": [
      "Exception in thread Thread-12:\n",
      "Traceback (most recent call last):\n",
      "  File \"C:\\Users\\Jerry\\Anaconda2\\lib\\threading.py\", line 801, in __bootstrap_inner\n",
      "    self.run()\n",
      "  File \"C:\\Users\\Jerry\\Anaconda2\\lib\\threading.py\", line 1073, in run\n",
      "    self.function(*self.args, **self.kwargs)\n",
      "TypeError: 'NoneType' object is not callable\n",
      "\n",
      "Exception in thread Thread-13:\n",
      "Traceback (most recent call last):\n",
      "  File \"C:\\Users\\Jerry\\Anaconda2\\lib\\threading.py\", line 801, in __bootstrap_inner\n",
      "    self.run()\n",
      "  File \"C:\\Users\\Jerry\\Anaconda2\\lib\\threading.py\", line 1073, in run\n",
      "    self.function(*self.args, **self.kwargs)\n",
      "TypeError: 'NoneType' object is not callable\n",
      "\n",
      "Exception in thread Thread-14:\n",
      "Traceback (most recent call last):\n",
      "  File \"C:\\Users\\Jerry\\Anaconda2\\lib\\threading.py\", line 801, in __bootstrap_inner\n",
      "    self.run()\n",
      "  File \"C:\\Users\\Jerry\\Anaconda2\\lib\\threading.py\", line 1073, in run\n",
      "    self.function(*self.args, **self.kwargs)\n",
      "TypeError: 'NoneType' object is not callable\n",
      "\n",
      "Exception in thread Thread-15:\n",
      "Traceback (most recent call last):\n",
      "  File \"C:\\Users\\Jerry\\Anaconda2\\lib\\threading.py\", line 801, in __bootstrap_inner\n",
      "    self.run()\n",
      "  File \"C:\\Users\\Jerry\\Anaconda2\\lib\\threading.py\", line 1073, in run\n",
      "    self.function(*self.args, **self.kwargs)\n",
      "TypeError: 'NoneType' object is not callable\n",
      "\n",
      "Exception in thread Thread-16:\n",
      "Traceback (most recent call last):\n",
      "  File \"C:\\Users\\Jerry\\Anaconda2\\lib\\threading.py\", line 801, in __bootstrap_inner\n",
      "    self.run()\n",
      "  File \"C:\\Users\\Jerry\\Anaconda2\\lib\\threading.py\", line 1073, in run\n",
      "    self.function(*self.args, **self.kwargs)\n",
      "TypeError: 'NoneType' object is not callable\n",
      "\n",
      "Exception in thread Thread-17:\n",
      "Traceback (most recent call last):\n",
      "  File \"C:\\Users\\Jerry\\Anaconda2\\lib\\threading.py\", line 801, in __bootstrap_inner\n",
      "    self.run()\n",
      "  File \"C:\\Users\\Jerry\\Anaconda2\\lib\\threading.py\", line 1073, in run\n",
      "    self.function(*self.args, **self.kwargs)\n",
      "TypeError: 'NoneType' object is not callable\n",
      "\n",
      "Exception in thread Thread-18:\n",
      "Traceback (most recent call last):\n",
      "  File \"C:\\Users\\Jerry\\Anaconda2\\lib\\threading.py\", line 801, in __bootstrap_inner\n",
      "    self.run()\n",
      "  File \"C:\\Users\\Jerry\\Anaconda2\\lib\\threading.py\", line 1073, in run\n",
      "    self.function(*self.args, **self.kwargs)\n",
      "TypeError: 'NoneType' object is not callable\n",
      "\n",
      "Exception in thread Thread-19:\n",
      "Traceback (most recent call last):\n",
      "  File \"C:\\Users\\Jerry\\Anaconda2\\lib\\threading.py\", line 801, in __bootstrap_inner\n",
      "    self.run()\n",
      "  File \"C:\\Users\\Jerry\\Anaconda2\\lib\\threading.py\", line 1073, in run\n",
      "    self.function(*self.args, **self.kwargs)\n",
      "TypeError: 'NoneType' object is not callable\n",
      "\n"
     ]
    }
   ],
   "source": [
    "while True:\n",
    "    schedule.run_pending()\n",
    "    #time.sleep(86400)"
   ]
  },
  {
   "cell_type": "code",
   "execution_count": 1,
   "metadata": {
    "collapsed": false
   },
   "outputs": [
    {
     "name": "stdout",
     "output_type": "stream",
     "text": [
      "Microsoft Windows [Version 10.0.14393]\r\n",
      "(c) 2016 Microsoft Corporation. All rights reserved.\r\n",
      "\r\n",
      "C:\\Users\\Jerry\\Desktop\\ECON3382>md C:\\Users\\Jerry\\Desktop\\ECON3382\\\n",
      "\r\n",
      "C:\\Users\\Jerry\\Desktop\\ECON3382>cd Desktop\\ECON3382\n",
      "\r\n",
      "C:\\Users\\Jerry\\Desktop\\ECON3382>git config --global user.name \"captaincrunchandcereal\"\n",
      "\r\n",
      "C:\\Users\\Jerry\\Desktop\\ECON3382>git config --global user.email \"captaincrunchandcereal@gmail.com\"\n",
      "\r\n",
      "C:\\Users\\Jerry\\Desktop\\ECON3382>git config --global credential.helper 'store econ338202'\n",
      "\r\n",
      "C:\\Users\\Jerry\\Desktop\\ECON3382>git clone https://github.com/captaincrunchandcereal/ECON338202.git\n",
      "\r\n",
      "C:\\Users\\Jerry\\Desktop\\ECON3382>#cd ECON338202\n",
      "\r\n",
      "C:\\Users\\Jerry\\Desktop\\ECON3382>#git add .\n",
      "\r\n",
      "C:\\Users\\Jerry\\Desktop\\ECON3382>#git commit -m \"First commit\"\n",
      "\r\n",
      "C:\\Users\\Jerry\\Desktop\\ECON3382>#git remote add origin https://github.com/captaincrunchandcereal/ECON338202.git\n",
      "\r\n",
      "C:\\Users\\Jerry\\Desktop\\ECON3382>#git remote -v\n",
      "\r\n",
      "C:\\Users\\Jerry\\Desktop\\ECON3382>#git push origin master\n",
      "\r\n",
      "C:\\Users\\Jerry\\Desktop\\ECON3382>''''''''''\n",
      "\r\n",
      "C:\\Users\\Jerry\\Desktop\\ECON3382>"
     ]
    },
    {
     "name": "stderr",
     "output_type": "stream",
     "text": [
      "A subdirectory or file C:\\Users\\Jerry\\Desktop\\ECON3382\\ already exists.\r\n",
      "The system cannot find the path specified.\r\n",
      "Cloning into 'ECON338202'...\n",
      "'#cd' is not recognized as an internal or external command,\r\n",
      "operable program or batch file.\r\n",
      "'#git' is not recognized as an internal or external command,\r\n",
      "operable program or batch file.\r\n",
      "'#git' is not recognized as an internal or external command,\r\n",
      "operable program or batch file.\r\n",
      "'#git' is not recognized as an internal or external command,\r\n",
      "operable program or batch file.\r\n",
      "'#git' is not recognized as an internal or external command,\r\n",
      "operable program or batch file.\r\n",
      "'#git' is not recognized as an internal or external command,\r\n",
      "operable program or batch file.\r\n",
      "'''''''''''' is not recognized as an internal or external command,\r\n",
      "operable program or batch file.\r\n"
     ]
    }
   ],
   "source": [
    "%%cmd \\n git status \\n\n",
    "md C:\\Users\\Jerry\\Desktop\\ECON3382\\\n",
    "cd Desktop\\ECON3382\n",
    "git config --global user.name \"captaincrunchandcereal\"\n",
    "git config --global user.email \"captaincrunchandcereal@gmail.com\"\n",
    "git config --global credential.helper 'store econ338202'\n",
    "git clone https://github.com/captaincrunchandcereal/ECON338202.git\n",
    "#cd ECON338202\n",
    "#git add .\n",
    "#git commit -m \"First commit\"\n",
    "#git remote add origin https://github.com/captaincrunchandcereal/ECON338202.git\n",
    "#git remote -v\n",
    "#git push origin master\n",
    "''''''''''"
   ]
  },
  {
   "cell_type": "code",
   "execution_count": null,
   "metadata": {
    "collapsed": false
   },
   "outputs": [],
   "source": [
    "#%%cmd \\n git status \\git clone"
   ]
  },
  {
   "cell_type": "code",
   "execution_count": null,
   "metadata": {
    "collapsed": true
   },
   "outputs": [],
   "source": [
    "''''''''''\n",
    "def job():\n",
    "    for i in tickers:\n",
    "        google_query(i).to_csv(i)\n",
    "        !git add .\n",
    "        !git commit -m \"replace\"\n",
    "        !git remote add origin https://github.com/captaincrunchandcereal/ECON338202.git\n",
    "        !git remote -v\n",
    "        !git push -f origin master\n",
    "'''''''"
   ]
  }
 ],
 "metadata": {
  "anaconda-cloud": {},
  "kernelspec": {
   "display_name": "Python [default]",
   "language": "python",
   "name": "python2"
  },
  "language_info": {
   "codemirror_mode": {
    "name": "ipython",
    "version": 2
   },
   "file_extension": ".py",
   "mimetype": "text/x-python",
   "name": "python",
   "nbconvert_exporter": "python",
   "pygments_lexer": "ipython2",
   "version": "2.7.12"
  }
 },
 "nbformat": 4,
 "nbformat_minor": 1
}
