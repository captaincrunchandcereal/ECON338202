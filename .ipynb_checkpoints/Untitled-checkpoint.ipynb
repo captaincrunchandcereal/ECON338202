{
 "cells": [
  {
   "cell_type": "code",
   "execution_count": 1,
   "metadata": {
    "collapsed": false
   },
   "outputs": [
    {
     "name": "stdout",
     "output_type": "stream",
     "text": [
      "Requirement already satisfied (use --upgrade to upgrade): pytrends in c:\\users\\jerry\\anaconda2\\lib\\site-packages\n",
      "Requirement already satisfied (use --upgrade to upgrade): BeautifulSoup4 in c:\\users\\jerry\\anaconda2\\lib\\site-packages (from pytrends)\n",
      "Requirement already satisfied (use --upgrade to upgrade): lxml in c:\\users\\jerry\\anaconda2\\lib\\site-packages (from pytrends)\n",
      "Requirement already satisfied (use --upgrade to upgrade): pandas in c:\\users\\jerry\\anaconda2\\lib\\site-packages (from pytrends)\n",
      "Requirement already satisfied (use --upgrade to upgrade): requests in c:\\users\\jerry\\anaconda2\\lib\\site-packages (from pytrends)\n",
      "Requirement already satisfied (use --upgrade to upgrade): python-dateutil in c:\\users\\jerry\\anaconda2\\lib\\site-packages (from pandas->pytrends)\n",
      "Requirement already satisfied (use --upgrade to upgrade): pytz>=2011k in c:\\users\\jerry\\anaconda2\\lib\\site-packages (from pandas->pytrends)\n",
      "Requirement already satisfied (use --upgrade to upgrade): numpy>=1.7.0 in c:\\users\\jerry\\anaconda2\\lib\\site-packages (from pandas->pytrends)\n",
      "Requirement already satisfied (use --upgrade to upgrade): six>=1.5 in c:\\users\\jerry\\anaconda2\\lib\\site-packages (from python-dateutil->pandas->pytrends)\n"
     ]
    },
    {
     "name": "stderr",
     "output_type": "stream",
     "text": [
      "You are using pip version 8.1.2, however version 9.0.1 is available.\n",
      "You should consider upgrading via the 'python -m pip install --upgrade pip' command.\n"
     ]
    }
   ],
   "source": [
    "!pip install pytrends\n",
    "import pytrends as pyt\n",
    "from pytrends.request import TrendReq"
   ]
  },
  {
   "cell_type": "code",
   "execution_count": 2,
   "metadata": {
    "collapsed": false
   },
   "outputs": [
    {
     "name": "stdout",
     "output_type": "stream",
     "text": [
      "Requirement already satisfied (use --upgrade to upgrade): schedule in c:\\users\\jerry\\anaconda2\\lib\\site-packages\n"
     ]
    },
    {
     "name": "stderr",
     "output_type": "stream",
     "text": [
      "You are using pip version 8.1.2, however version 9.0.1 is available.\n",
      "You should consider upgrading via the 'python -m pip install --upgrade pip' command.\n"
     ]
    }
   ],
   "source": [
    "!pip install schedule\n",
    "import schedule\n",
    "import time"
   ]
  },
  {
   "cell_type": "code",
   "execution_count": 3,
   "metadata": {
    "collapsed": true
   },
   "outputs": [],
   "source": [
    "import pandas as pd\n",
    "import numpy as np"
   ]
  },
  {
   "cell_type": "code",
   "execution_count": 4,
   "metadata": {
    "collapsed": true
   },
   "outputs": [],
   "source": [
    "from datetime import datetime\n",
    "from datetime import timedelta\n",
    "import datetime"
   ]
  },
  {
   "cell_type": "code",
   "execution_count": 65,
   "metadata": {
    "collapsed": false
   },
   "outputs": [
    {
     "name": "stdout",
     "output_type": "stream",
     "text": [
      "  Symbol                               Name  LastSale    MarketCap ADR TSO  \\\n",
      "0   IOTS    Adesto Technologies Corporation      1.70  26332916.70     n/a   \n",
      "1    ACY                  AeroCentury Corp.      9.40  14726970.60     n/a   \n",
      "2    WGA                AG&E Holdings, Inc.      0.23   2679270.00     n/a   \n",
      "3   BOSC     B.O.S. Better Online Solutions      2.40   6386767.20     n/a   \n",
      "4    BDR  Blonder Tongue Laboratories, Inc.      0.54   4372810.38     n/a   \n",
      "\n",
      "  IPOyear      Sector                                           Industry  \\\n",
      "0    2015  Technology                                     Semiconductors   \n",
      "1     n/a  Technology                    Diversified Commercial Services   \n",
      "2     n/a  Technology  Radio And Television Broadcasting And Communic...   \n",
      "3     n/a  Technology                  Computer Communications Equipment   \n",
      "4     n/a  Technology  Radio And Television Broadcasting And Communic...   \n",
      "\n",
      "                       Summary Quote  \n",
      "0  http://www.nasdaq.com/symbol/iots  \n",
      "1   http://www.nasdaq.com/symbol/acy  \n",
      "2   http://www.nasdaq.com/symbol/wga  \n",
      "3  http://www.nasdaq.com/symbol/bosc  \n",
      "4   http://www.nasdaq.com/symbol/bdr  \n"
     ]
    }
   ],
   "source": [
    "cmplst = pd.read_csv('companylist.csv')\n",
    "print cmplst.head(5)"
   ]
  },
  {
   "cell_type": "code",
   "execution_count": 31,
   "metadata": {
    "collapsed": false
   },
   "outputs": [],
   "source": [
    "google_username = 'captaincrunchandcereal@gmail.com'\n",
    "google_password = 'econ338202!'\n",
    "\n",
    "path = \"\"\n",
    "\n",
    "#connect to Google\n",
    "pytrend = TrendReq(google_username, google_password, custom_useragent = 'My Pytrends Script')"
   ]
  },
  {
   "cell_type": "code",
   "execution_count": 8,
   "metadata": {
    "collapsed": true
   },
   "outputs": [],
   "source": [
    "def google_query(company):\n",
    "    trend_payload = {'q':company, 'date' : 'today 3-m'}\n",
    "    trend = pytrend.trend(trend_payload)\n",
    "    df1 = pytrend.trend(trend_payload, return_type = 'dataframe')\n",
    "    return df1"
   ]
  },
  {
   "cell_type": "code",
   "execution_count": 10,
   "metadata": {
    "collapsed": true
   },
   "outputs": [],
   "source": [
    "def meanRevert(df,k=7,m=1):\n",
    "    mean = df[df.columns[0]].rolling(window = k).mean()\n",
    "    stddev = df[df.columns[0]].rolling(window = k).std()\n",
    "    buy=df[df.columns[0]]<(mean-m*stddev)\n",
    "    sell=df[df.columns[0]]>(mean+m*stddev)\n",
    "    Order=buy*1+sell*-1\n",
    "    df[\"Order\"] = Order\n",
    "    return df"
   ]
  },
  {
   "cell_type": "code",
   "execution_count": 59,
   "metadata": {
    "collapsed": false
   },
   "outputs": [],
   "source": [
    "def buysignal(df,i,k=7,m=1):\n",
    "    mean = df[df.columns[i]].rolling(window = k).mean()\n",
    "    stddev = df[df.columns[i]].rolling(window = k).std()\n",
    "    buy=df[df.columns[i]]>(mean-m*stddev)\n",
    "    order=buy*1\n",
    "    return order\n",
    "\n",
    "def signal_df(df, k=7, m=1):\n",
    "    df2=df\n",
    "    for i in range(0, len(df.columns)):\n",
    "        df2[str(df.columns[i])]=buysignal(df,i)\n",
    "    return df2\n",
    "\n",
    "def buylist(dummydf):\n",
    "    datelist = dummydf.index\n",
    "    #print datelist\n",
    "    bigbuylist = []\n",
    "    for row in range(len(dummydf)): \n",
    "        littlebuylist=[]\n",
    "        for column in range(1, len(dummydf.columns)):\n",
    "            if dummydf.ix[row,column] == 1:\n",
    "                littlebuylist.append(dummydf.columns[column])\n",
    "        bigbuylist.append(littlebuylist)\n",
    "    #print bigbuylist\n",
    "    return pd.DataFrame({\"Date\": datelist,\n",
    "                         \"BuyList\": bigbuylist}).set_index('Date')\n"
   ]
  },
  {
   "cell_type": "code",
   "execution_count": 34,
   "metadata": {
    "collapsed": false
   },
   "outputs": [
    {
     "data": {
      "text/plain": [
       "Every 1 day at 09:00:00 do job() (last run: [never], next run: 2016-12-01 09:00:00)"
      ]
     },
     "execution_count": 34,
     "metadata": {},
     "output_type": "execute_result"
    }
   ],
   "source": [
    "def job():\n",
    "    print (1), (tickers[0])\n",
    "    print datetime.datetime.now()\n",
    "    df0 = google_query(tickers[0])\n",
    "    dflist = [df0]\n",
    "    for i in range(1,41):\n",
    "        print (i+1),tickers[i] \n",
    "        for t in range(660):\n",
    "            time.sleep(1)\n",
    "        dfi = google_query(tickers[i])\n",
    "        dflist.append(dfi)\n",
    "        print datetime.datetime.now()\n",
    "    masterdf = pd.concat(dflist, axis=1)\n",
    "    masterdf1 = buylist(signal_df(masterdf, k=7, m=1))\n",
    "    masterdf1.to_csv('masterdf1')\n",
    "    !git add .\n",
    "    !git commit -m \"replace\"\n",
    "    !git remote add origin https://github.com/captaincrunchandcereal/ECON338202.git\n",
    "    !git remote -v\n",
    "    !git push -f origin master\n",
    "    #Timer(40, task(i), ()).start()\n",
    "    #task(i)\n",
    "        \n",
    "#Note: Inconsistent lookback window of google trends data: on Friday, 11/18, I could use past 90 days' data up to 11/14\n",
    "#Fill in those essential missing values with rescaling of sampled hourly data from last 7 days?\n",
    "        \n",
    "#Get csvs to overwrite\n",
    "    \n",
    "#Note to self--get rid of tickers that don't get google search data: COYNW\n",
    "    \n",
    "#schedule.do(job)\n",
    "schedule.clear()\n",
    "schedule.every().day.at(\"19:03\").do(job)"
   ]
  },
  {
   "cell_type": "code",
   "execution_count": 35,
   "metadata": {
    "collapsed": false,
    "scrolled": false
   },
   "outputs": [
    {
     "ename": "KeyboardInterrupt",
     "evalue": "",
     "output_type": "error",
     "traceback": [
      "\u001b[0;31m---------------------------------------------------------------------------\u001b[0m",
      "\u001b[0;31mKeyboardInterrupt\u001b[0m                         Traceback (most recent call last)",
      "\u001b[0;32m<ipython-input-35-e958909b1ed1>\u001b[0m in \u001b[0;36m<module>\u001b[0;34m()\u001b[0m\n\u001b[1;32m      1\u001b[0m \u001b[1;32mwhile\u001b[0m \u001b[0mTrue\u001b[0m\u001b[1;33m:\u001b[0m\u001b[1;33m\u001b[0m\u001b[0m\n\u001b[1;32m      2\u001b[0m     \u001b[0mschedule\u001b[0m\u001b[1;33m.\u001b[0m\u001b[0mrun_pending\u001b[0m\u001b[1;33m(\u001b[0m\u001b[1;33m)\u001b[0m\u001b[1;33m\u001b[0m\u001b[0m\n\u001b[0;32m----> 3\u001b[0;31m     \u001b[0mtime\u001b[0m\u001b[1;33m.\u001b[0m\u001b[0msleep\u001b[0m\u001b[1;33m(\u001b[0m\u001b[1;36m1\u001b[0m\u001b[1;33m)\u001b[0m\u001b[1;33m\u001b[0m\u001b[0m\n\u001b[0m",
      "\u001b[0;31mKeyboardInterrupt\u001b[0m: "
     ]
    }
   ],
   "source": [
    "while True:\n",
    "    schedule.run_pending()\n",
    "    time.sleep(1)"
   ]
  },
  {
   "cell_type": "code",
   "execution_count": 22,
   "metadata": {
    "collapsed": false
   },
   "outputs": [
    {
     "name": "stdout",
     "output_type": "stream",
     "text": [
      "Reinitialized existing Git repository in C:/Users/Jerry/Desktop/ECON3382/ECON338202/.git/\n"
     ]
    },
    {
     "name": "stderr",
     "output_type": "stream",
     "text": [
      "warning: LF will be replaced by CRLF in Untitled.ipynb.\n",
      "The file will have its original line endings in your working directory.\n"
     ]
    },
    {
     "name": "stdout",
     "output_type": "stream",
     "text": [
      "[master b05b3ee] aaa\n",
      " 2 files changed, 75 insertions(+), 95 deletions(-)\n",
      " delete mode 100644 companylist.csv.csv\n"
     ]
    },
    {
     "name": "stderr",
     "output_type": "stream",
     "text": [
      "fatal: remote origin already exists.\n"
     ]
    },
    {
     "name": "stdout",
     "output_type": "stream",
     "text": [
      "origin\thttps://github.com/captaincrunchandcereal/ECON338202.git (fetch)\n",
      "origin\thttps://github.com/captaincrunchandcereal/ECON338202.git (push)\n"
     ]
    },
    {
     "name": "stderr",
     "output_type": "stream",
     "text": [
      "git: 'credential---add' is not a git command. See 'git --help'.\n",
      "git: 'credential---add' is not a git command. See 'git --help'.\n",
      "git credential-'store store: -c: line 0: unexpected EOF while looking for matching `''\n",
      "git credential-'store store: -c: line 1: syntax error: unexpected end of file\n",
      "git credential-'store store: -c: line 0: unexpected EOF while looking for matching `''\n",
      "git credential-'store store: -c: line 1: syntax error: unexpected end of file\n",
      "git credential-'store store: -c: line 0: unexpected EOF while looking for matching `''\n",
      "git credential-'store store: -c: line 1: syntax error: unexpected end of file\n",
      "git credential-'store store: -c: line 0: unexpected EOF while looking for matching `''\n",
      "git credential-'store store: -c: line 1: syntax error: unexpected end of file\n",
      "git credential-'store store: -c: line 0: unexpected EOF while looking for matching `''\n",
      "git credential-'store store: -c: line 1: syntax error: unexpected end of file\n",
      "git credential-'store store: -c: line 0: unexpected EOF while looking for matching `''\n",
      "git credential-'store store: -c: line 1: syntax error: unexpected end of file\n",
      "git credential-'store store: -c: line 0: unexpected EOF while looking for matching `''\n",
      "git credential-'store store: -c: line 1: syntax error: unexpected end of file\n",
      "git credential-'store store: -c: line 0: unexpected EOF while looking for matching `''\n",
      "git credential-'store store: -c: line 1: syntax error: unexpected end of file\n",
      "To https://github.com/captaincrunchandcereal/ECON338202.git\n",
      "   6a74f8c..b05b3ee  master -> master\n"
     ]
    }
   ],
   "source": [
    "#initialize github repository\n",
    "\n",
    "!git init\n",
    "!git add .\n",
    "!git commit -m \"aaa\"\n",
    "!git remote add origin https://github.com/captaincrunchandcereal/ECON338202.git\n",
    "!git remote -v\n",
    "!git push -f origin master"
   ]
  }
 ],
 "metadata": {
  "anaconda-cloud": {},
  "kernelspec": {
   "display_name": "Python [conda root]",
   "language": "python",
   "name": "conda-root-py"
  },
  "language_info": {
   "codemirror_mode": {
    "name": "ipython",
    "version": 2
   },
   "file_extension": ".py",
   "mimetype": "text/x-python",
   "name": "python",
   "nbconvert_exporter": "python",
   "pygments_lexer": "ipython2",
   "version": "2.7.12"
  }
 },
 "nbformat": 4,
 "nbformat_minor": 1
}
