{
 "cells": [
  {
   "cell_type": "code",
   "execution_count": 1,
   "metadata": {
    "collapsed": false
   },
   "outputs": [
    {
     "name": "stdout",
     "output_type": "stream",
     "text": [
      "Requirement already satisfied (use --upgrade to upgrade): googlefinance in c:\\users\\jerry\\anaconda2\\lib\\site-packages\n"
     ]
    },
    {
     "name": "stderr",
     "output_type": "stream",
     "text": [
      "You are using pip version 8.1.2, however version 9.0.1 is available.\n",
      "You should consider upgrading via the 'python -m pip install --upgrade pip' command.\n"
     ]
    }
   ],
   "source": [
    "!pip install googlefinance\n",
    "import googlefinance as googlefin"
   ]
  },
  {
   "cell_type": "code",
   "execution_count": 2,
   "metadata": {
    "collapsed": false
   },
   "outputs": [
    {
     "name": "stdout",
     "output_type": "stream",
     "text": [
      "Requirement already satisfied (use --upgrade to upgrade): pytrends in c:\\users\\jerry\\anaconda2\\lib\\site-packages\n",
      "Requirement already satisfied (use --upgrade to upgrade): BeautifulSoup4 in c:\\users\\jerry\\anaconda2\\lib\\site-packages (from pytrends)\n",
      "Requirement already satisfied (use --upgrade to upgrade): lxml in c:\\users\\jerry\\anaconda2\\lib\\site-packages (from pytrends)\n",
      "Requirement already satisfied (use --upgrade to upgrade): pandas in c:\\users\\jerry\\anaconda2\\lib\\site-packages (from pytrends)\n",
      "Requirement already satisfied (use --upgrade to upgrade): requests in c:\\users\\jerry\\anaconda2\\lib\\site-packages (from pytrends)\n",
      "Requirement already satisfied (use --upgrade to upgrade): python-dateutil in c:\\users\\jerry\\anaconda2\\lib\\site-packages (from pandas->pytrends)\n",
      "Requirement already satisfied (use --upgrade to upgrade): pytz>=2011k in c:\\users\\jerry\\anaconda2\\lib\\site-packages (from pandas->pytrends)\n",
      "Requirement already satisfied (use --upgrade to upgrade): numpy>=1.7.0 in c:\\users\\jerry\\anaconda2\\lib\\site-packages (from pandas->pytrends)\n",
      "Requirement already satisfied (use --upgrade to upgrade): six>=1.5 in c:\\users\\jerry\\anaconda2\\lib\\site-packages (from python-dateutil->pandas->pytrends)\n"
     ]
    },
    {
     "name": "stderr",
     "output_type": "stream",
     "text": [
      "You are using pip version 8.1.2, however version 9.0.1 is available.\n",
      "You should consider upgrading via the 'python -m pip install --upgrade pip' command.\n"
     ]
    }
   ],
   "source": [
    "!pip install pytrends\n",
    "import pytrends as pyt\n",
    "from pytrends.request import TrendReq"
   ]
  },
  {
   "cell_type": "code",
   "execution_count": 3,
   "metadata": {
    "collapsed": false
   },
   "outputs": [
    {
     "name": "stdout",
     "output_type": "stream",
     "text": [
      "Requirement already satisfied (use --upgrade to upgrade): yahoo-finance in c:\\users\\jerry\\anaconda2\\lib\\site-packages\n",
      "Requirement already satisfied (use --upgrade to upgrade): pytz in c:\\users\\jerry\\anaconda2\\lib\\site-packages (from yahoo-finance)\n",
      "Requirement already satisfied (use --upgrade to upgrade): simplejson in c:\\users\\jerry\\anaconda2\\lib\\site-packages (from yahoo-finance)\n"
     ]
    },
    {
     "name": "stderr",
     "output_type": "stream",
     "text": [
      "You are using pip version 8.1.2, however version 9.0.1 is available.\n",
      "You should consider upgrading via the 'python -m pip install --upgrade pip' command.\n"
     ]
    }
   ],
   "source": [
    "!pip install yahoo-finance\n",
    "import yahoo_finance as yahoofin\n",
    "from yahoo_finance import Share"
   ]
  },
  {
   "cell_type": "code",
   "execution_count": 4,
   "metadata": {
    "collapsed": false
   },
   "outputs": [
    {
     "name": "stdout",
     "output_type": "stream",
     "text": [
      "Requirement already satisfied (use --upgrade to upgrade): schedule in c:\\users\\jerry\\anaconda2\\lib\\site-packages\n"
     ]
    },
    {
     "name": "stderr",
     "output_type": "stream",
     "text": [
      "You are using pip version 8.1.2, however version 9.0.1 is available.\n",
      "You should consider upgrading via the 'python -m pip install --upgrade pip' command.\n"
     ]
    }
   ],
   "source": [
    "!pip install schedule\n",
    "import schedule\n",
    "import time"
   ]
  },
  {
   "cell_type": "code",
   "execution_count": 5,
   "metadata": {
    "collapsed": true
   },
   "outputs": [],
   "source": [
    "import pandas as pd"
   ]
  },
  {
   "cell_type": "code",
   "execution_count": 31,
   "metadata": {
    "collapsed": true
   },
   "outputs": [],
   "source": [
    "from datetime import datetime\n",
    "from threading import Timer"
   ]
  },
  {
   "cell_type": "code",
   "execution_count": 6,
   "metadata": {
    "collapsed": false
   },
   "outputs": [],
   "source": [
    "cmplst = pd.read_csv('companylist.csv')"
   ]
  },
  {
   "cell_type": "code",
   "execution_count": 7,
   "metadata": {
    "collapsed": true
   },
   "outputs": [],
   "source": [
    "google_username = 'captaincrunchandcereal@gmail.com'\n",
    "google_password = 'econ338202'\n",
    "\n",
    "path = \"\"\n",
    "\n",
    "#connect to Google\n",
    "pytrend = TrendReq(google_username, google_password, custom_useragent = 'My Pytrends Script')"
   ]
  },
  {
   "cell_type": "code",
   "execution_count": 8,
   "metadata": {
    "collapsed": true
   },
   "outputs": [],
   "source": [
    "def google_query(company):\n",
    "    trend_payload = {'q':company, 'date' : 'today 3-m'}\n",
    "    trend = pytrend.trend(trend_payload)\n",
    "    df1 = pytrend.trend(trend_payload, return_type = 'dataframe')\n",
    "    return df1"
   ]
  },
  {
   "cell_type": "code",
   "execution_count": 16,
   "metadata": {
    "collapsed": false
   },
   "outputs": [
    {
     "name": "stdout",
     "output_type": "stream",
     "text": [
      "            aker\n",
      "Date            \n",
      "2016-11-11  54.0\n",
      "2016-11-12  61.0\n",
      "2016-11-13   NaN\n",
      "2016-11-14   NaN\n",
      "2016-11-15   NaN\n"
     ]
    },
    {
     "data": {
      "text/plain": [
       "1157    ZIONZ\n",
       "1158     ZSAN\n",
       "1159      ZTO\n",
       "Name: Symbol, dtype: object"
      ]
     },
     "execution_count": 16,
     "metadata": {},
     "output_type": "execute_result"
    }
   ],
   "source": [
    "print google_query('AKER').tail(5)\n",
    "#print cmplst.head(3)\n",
    "#print cmplst.T.ix[0].head(5)\n",
    "\n",
    "tickers = cmplst.T.ix[0]\n",
    "cmplst.T.ix[0].tail(3)"
   ]
  },
  {
   "cell_type": "code",
   "execution_count": 33,
   "metadata": {
    "collapsed": false
   },
   "outputs": [
    {
     "data": {
      "text/plain": [
       "Every 86400 seconds do job() (last run: [never], next run: 2016-11-15 21:04:16)"
      ]
     },
     "execution_count": 33,
     "metadata": {},
     "output_type": "execute_result"
    }
   ],
   "source": [
    "def task(i):\n",
    "    google_query(i).to_csv(i)\n",
    "    !git add .\n",
    "    !git commit -m \"replace\"\n",
    "    !git remote add origin https://github.com/captaincrunchandcereal/ECON338202.git\n",
    "    !git remote -v\n",
    "    !git push -f origin master\n",
    "def job():\n",
    "    for i in tickers:\n",
    "        Timer(40, task(i), ()).start()\n",
    "\n",
    "schedule.every(86400).seconds.do(job)\n",
    "#schedule.every().day.at(\"19:04\").do(job)"
   ]
  },
  {
   "cell_type": "code",
   "execution_count": 32,
   "metadata": {
    "collapsed": true
   },
   "outputs": [],
   "source": [
    "#STOP\n",
    "schedule.clear()\n"
   ]
  },
  {
   "cell_type": "code",
   "execution_count": null,
   "metadata": {
    "collapsed": false
   },
   "outputs": [],
   "source": [
    "while True:\n",
    "    schedule.run_pending()\n",
    "    time.sleep(1)"
   ]
  },
  {
   "cell_type": "code",
   "execution_count": 1,
   "metadata": {
    "collapsed": false
   },
   "outputs": [
    {
     "name": "stdout",
     "output_type": "stream",
     "text": [
      "Microsoft Windows [Version 10.0.14393]\r\n",
      "(c) 2016 Microsoft Corporation. All rights reserved.\r\n",
      "\r\n",
      "C:\\Users\\Jerry\\Desktop\\ECON3382>md C:\\Users\\Jerry\\Desktop\\ECON3382\\\n",
      "\r\n",
      "C:\\Users\\Jerry\\Desktop\\ECON3382>cd Desktop\\ECON3382\n",
      "\r\n",
      "C:\\Users\\Jerry\\Desktop\\ECON3382>git config --global user.name \"captaincrunchandcereal\"\n",
      "\r\n",
      "C:\\Users\\Jerry\\Desktop\\ECON3382>git config --global user.email \"captaincrunchandcereal@gmail.com\"\n",
      "\r\n",
      "C:\\Users\\Jerry\\Desktop\\ECON3382>git config --global credential.helper 'store econ338202'\n",
      "\r\n",
      "C:\\Users\\Jerry\\Desktop\\ECON3382>git clone https://github.com/captaincrunchandcereal/ECON338202.git\n",
      "\r\n",
      "C:\\Users\\Jerry\\Desktop\\ECON3382>#cd ECON338202\n",
      "\r\n",
      "C:\\Users\\Jerry\\Desktop\\ECON3382>#git add .\n",
      "\r\n",
      "C:\\Users\\Jerry\\Desktop\\ECON3382>#git commit -m \"First commit\"\n",
      "\r\n",
      "C:\\Users\\Jerry\\Desktop\\ECON3382>#git remote add origin https://github.com/captaincrunchandcereal/ECON338202.git\n",
      "\r\n",
      "C:\\Users\\Jerry\\Desktop\\ECON3382>#git remote -v\n",
      "\r\n",
      "C:\\Users\\Jerry\\Desktop\\ECON3382>#git push origin master\n",
      "\r\n",
      "C:\\Users\\Jerry\\Desktop\\ECON3382>''''''''''\n",
      "\r\n",
      "C:\\Users\\Jerry\\Desktop\\ECON3382>"
     ]
    },
    {
     "name": "stderr",
     "output_type": "stream",
     "text": [
      "A subdirectory or file C:\\Users\\Jerry\\Desktop\\ECON3382\\ already exists.\r\n",
      "The system cannot find the path specified.\r\n",
      "Cloning into 'ECON338202'...\n",
      "'#cd' is not recognized as an internal or external command,\r\n",
      "operable program or batch file.\r\n",
      "'#git' is not recognized as an internal or external command,\r\n",
      "operable program or batch file.\r\n",
      "'#git' is not recognized as an internal or external command,\r\n",
      "operable program or batch file.\r\n",
      "'#git' is not recognized as an internal or external command,\r\n",
      "operable program or batch file.\r\n",
      "'#git' is not recognized as an internal or external command,\r\n",
      "operable program or batch file.\r\n",
      "'#git' is not recognized as an internal or external command,\r\n",
      "operable program or batch file.\r\n",
      "'''''''''''' is not recognized as an internal or external command,\r\n",
      "operable program or batch file.\r\n"
     ]
    }
   ],
   "source": [
    "%%cmd \\n git status \\n\n",
    "md C:\\Users\\Jerry\\Desktop\\ECON3382\\\n",
    "cd Desktop\\ECON3382\n",
    "git config --global user.name \"captaincrunchandcereal\"\n",
    "git config --global user.email \"captaincrunchandcereal@gmail.com\"\n",
    "git config --global credential.helper 'store econ338202'\n",
    "git clone https://github.com/captaincrunchandcereal/ECON338202.git\n",
    "#cd ECON338202\n",
    "#git add .\n",
    "#git commit -m \"First commit\"\n",
    "#git remote add origin https://github.com/captaincrunchandcereal/ECON338202.git\n",
    "#git remote -v\n",
    "#git push origin master\n",
    "''''''''''"
   ]
  },
  {
   "cell_type": "code",
   "execution_count": null,
   "metadata": {
    "collapsed": false
   },
   "outputs": [],
   "source": [
    "#%%cmd \\n git status \\git clone"
   ]
  },
  {
   "cell_type": "code",
   "execution_count": null,
   "metadata": {
    "collapsed": true
   },
   "outputs": [],
   "source": [
    "''''''''''\n",
    "def job():\n",
    "    for i in tickers:\n",
    "        google_query(i).to_csv(i)\n",
    "        !git add .\n",
    "        !git commit -m \"replace\"\n",
    "        !git remote add origin https://github.com/captaincrunchandcereal/ECON338202.git\n",
    "        !git remote -v\n",
    "        !git push -f origin master\n",
    "'''''''"
   ]
  }
 ],
 "metadata": {
  "anaconda-cloud": {},
  "kernelspec": {
   "display_name": "Python [default]",
   "language": "python",
   "name": "python2"
  },
  "language_info": {
   "codemirror_mode": {
    "name": "ipython",
    "version": 2
   },
   "file_extension": ".py",
   "mimetype": "text/x-python",
   "name": "python",
   "nbconvert_exporter": "python",
   "pygments_lexer": "ipython2",
   "version": "2.7.12"
  }
 },
 "nbformat": 4,
 "nbformat_minor": 1
}
