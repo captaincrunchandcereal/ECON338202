{
 "cells": [
  {
   "cell_type": "code",
   "execution_count": 5,
   "metadata": {
    "collapsed": false
   },
   "outputs": [
    {
     "name": "stdout",
     "output_type": "stream",
     "text": [
      "Requirement already satisfied (use --upgrade to upgrade): googlefinance in c:\\users\\jerry\\anaconda2\\lib\\site-packages\n"
     ]
    },
    {
     "name": "stderr",
     "output_type": "stream",
     "text": [
      "You are using pip version 8.1.2, however version 9.0.1 is available.\n",
      "You should consider upgrading via the 'python -m pip install --upgrade pip' command.\n"
     ]
    }
   ],
   "source": [
    "!pip install googlefinance\n",
    "import googlefinance as googlefin"
   ]
  },
  {
   "cell_type": "code",
   "execution_count": 7,
   "metadata": {
    "collapsed": false
   },
   "outputs": [
    {
     "name": "stdout",
     "output_type": "stream",
     "text": [
      "Requirement already satisfied (use --upgrade to upgrade): pytrends in c:\\users\\jerry\\anaconda2\\lib\\site-packages\n",
      "Requirement already satisfied (use --upgrade to upgrade): BeautifulSoup4 in c:\\users\\jerry\\anaconda2\\lib\\site-packages (from pytrends)\n",
      "Requirement already satisfied (use --upgrade to upgrade): lxml in c:\\users\\jerry\\anaconda2\\lib\\site-packages (from pytrends)\n",
      "Requirement already satisfied (use --upgrade to upgrade): pandas in c:\\users\\jerry\\anaconda2\\lib\\site-packages (from pytrends)\n",
      "Requirement already satisfied (use --upgrade to upgrade): requests in c:\\users\\jerry\\anaconda2\\lib\\site-packages (from pytrends)\n",
      "Requirement already satisfied (use --upgrade to upgrade): python-dateutil in c:\\users\\jerry\\anaconda2\\lib\\site-packages (from pandas->pytrends)\n",
      "Requirement already satisfied (use --upgrade to upgrade): pytz>=2011k in c:\\users\\jerry\\anaconda2\\lib\\site-packages (from pandas->pytrends)\n",
      "Requirement already satisfied (use --upgrade to upgrade): numpy>=1.7.0 in c:\\users\\jerry\\anaconda2\\lib\\site-packages (from pandas->pytrends)\n",
      "Requirement already satisfied (use --upgrade to upgrade): six>=1.5 in c:\\users\\jerry\\anaconda2\\lib\\site-packages (from python-dateutil->pandas->pytrends)\n"
     ]
    },
    {
     "name": "stderr",
     "output_type": "stream",
     "text": [
      "You are using pip version 8.1.2, however version 9.0.1 is available.\n",
      "You should consider upgrading via the 'python -m pip install --upgrade pip' command.\n"
     ]
    }
   ],
   "source": [
    "!pip install pytrends\n",
    "import pytrends as pyt\n",
    "from pytrends.request import TrendReq"
   ]
  },
  {
   "cell_type": "code",
   "execution_count": 8,
   "metadata": {
    "collapsed": false
   },
   "outputs": [
    {
     "name": "stdout",
     "output_type": "stream",
     "text": [
      "Requirement already satisfied (use --upgrade to upgrade): yahoo-finance in c:\\users\\jerry\\anaconda2\\lib\\site-packages\n",
      "Requirement already satisfied (use --upgrade to upgrade): pytz in c:\\users\\jerry\\anaconda2\\lib\\site-packages (from yahoo-finance)\n",
      "Requirement already satisfied (use --upgrade to upgrade): simplejson in c:\\users\\jerry\\anaconda2\\lib\\site-packages (from yahoo-finance)\n"
     ]
    },
    {
     "name": "stderr",
     "output_type": "stream",
     "text": [
      "You are using pip version 8.1.2, however version 9.0.1 is available.\n",
      "You should consider upgrading via the 'python -m pip install --upgrade pip' command.\n"
     ]
    }
   ],
   "source": [
    "!pip install yahoo-finance\n",
    "import yahoo_finance as yahoofin\n",
    "from yahoo_finance import Share"
   ]
  },
  {
   "cell_type": "code",
   "execution_count": 9,
   "metadata": {
    "collapsed": false
   },
   "outputs": [
    {
     "name": "stdout",
     "output_type": "stream",
     "text": [
      "Requirement already satisfied (use --upgrade to upgrade): schedule in c:\\users\\jerry\\anaconda2\\lib\\site-packages\n"
     ]
    },
    {
     "name": "stderr",
     "output_type": "stream",
     "text": [
      "You are using pip version 8.1.2, however version 9.0.1 is available.\n",
      "You should consider upgrading via the 'python -m pip install --upgrade pip' command.\n"
     ]
    }
   ],
   "source": [
    "!pip install schedule\n",
    "import schedule\n",
    "import time"
   ]
  },
  {
   "cell_type": "code",
   "execution_count": 10,
   "metadata": {
    "collapsed": true
   },
   "outputs": [],
   "source": [
    "import pandas as pd"
   ]
  },
  {
   "cell_type": "code",
   "execution_count": 11,
   "metadata": {
    "collapsed": false
   },
   "outputs": [],
   "source": [
    "google_username = 'captaincrunchandcereal@gmail.com'\n",
    "google_password = 'econ338202'\n",
    "\n",
    "path = \"\"\n",
    "\n",
    "#connect to Google\n",
    "pytrend = TrendReq(google_username, google_password, custom_useragent = 'My Pytrends Script')"
   ]
  },
  {
   "cell_type": "code",
   "execution_count": 12,
   "metadata": {
    "collapsed": true
   },
   "outputs": [],
   "source": [
    "def google_query(company):\n",
    "    trend_payload = {'q':company, 'date' : 'today 3-m'}\n",
    "    trend = pytrend.trend(trend_payload)\n",
    "    df1 = pytrend.trend(trend_payload, return_type = 'dataframe')\n",
    "    return df1"
   ]
  },
  {
   "cell_type": "code",
   "execution_count": 13,
   "metadata": {
    "collapsed": false
   },
   "outputs": [
    {
     "data": {
      "text/plain": [
       "Every 30 seconds do job() (last run: [never], next run: 2016-11-09 23:20:24)"
      ]
     },
     "execution_count": 13,
     "metadata": {},
     "output_type": "execute_result"
    }
   ],
   "source": [
    "def job():\n",
    "    specialdf = google_query()\n",
    "    specialdf.to_csv()\n",
    "schedule.every(60).seconds.do(job)"
   ]
  },
  {
   "cell_type": "code",
   "execution_count": 14,
   "metadata": {
    "collapsed": false
   },
   "outputs": [
    {
     "ename": "KeyboardInterrupt",
     "evalue": "",
     "output_type": "error",
     "traceback": [
      "\u001b[0;31m---------------------------------------------------------------------------\u001b[0m",
      "\u001b[0;31mKeyboardInterrupt\u001b[0m                         Traceback (most recent call last)",
      "\u001b[0;32m<ipython-input-14-e958909b1ed1>\u001b[0m in \u001b[0;36m<module>\u001b[0;34m()\u001b[0m\n\u001b[1;32m      1\u001b[0m \u001b[1;32mwhile\u001b[0m \u001b[0mTrue\u001b[0m\u001b[1;33m:\u001b[0m\u001b[1;33m\u001b[0m\u001b[0m\n\u001b[1;32m      2\u001b[0m     \u001b[0mschedule\u001b[0m\u001b[1;33m.\u001b[0m\u001b[0mrun_pending\u001b[0m\u001b[1;33m(\u001b[0m\u001b[1;33m)\u001b[0m\u001b[1;33m\u001b[0m\u001b[0m\n\u001b[0;32m----> 3\u001b[0;31m     \u001b[0mtime\u001b[0m\u001b[1;33m.\u001b[0m\u001b[0msleep\u001b[0m\u001b[1;33m(\u001b[0m\u001b[1;36m1\u001b[0m\u001b[1;33m)\u001b[0m\u001b[1;33m\u001b[0m\u001b[0m\n\u001b[0m",
      "\u001b[0;31mKeyboardInterrupt\u001b[0m: "
     ]
    }
   ],
   "source": [
    "while True:\n",
    "    schedule.run_pending()\n",
    "    time.sleep(1)"
   ]
  },
  {
   "cell_type": "code",
   "execution_count": 1,
   "metadata": {
    "collapsed": false
   },
   "outputs": [
    {
     "ename": "NameError",
     "evalue": "name 'schedule' is not defined",
     "output_type": "error",
     "traceback": [
      "\u001b[0;31m---------------------------------------------------------------------------\u001b[0m",
      "\u001b[0;31mNameError\u001b[0m                                 Traceback (most recent call last)",
      "\u001b[0;32m<ipython-input-1-0ae25fa65e96>\u001b[0m in \u001b[0;36m<module>\u001b[0;34m()\u001b[0m\n\u001b[1;32m      1\u001b[0m \u001b[1;31m#STOP\u001b[0m\u001b[1;33m\u001b[0m\u001b[1;33m\u001b[0m\u001b[0m\n\u001b[0;32m----> 2\u001b[0;31m \u001b[0mschedule\u001b[0m\u001b[1;33m.\u001b[0m\u001b[0mclear\u001b[0m\u001b[1;33m(\u001b[0m\u001b[1;33m)\u001b[0m\u001b[1;33m\u001b[0m\u001b[0m\n\u001b[0m",
      "\u001b[0;31mNameError\u001b[0m: name 'schedule' is not defined"
     ]
    }
   ],
   "source": [
    "schedule.clear()"
   ]
  },
  {
   "cell_type": "code",
   "execution_count": 3,
   "metadata": {
    "collapsed": false
   },
   "outputs": [
    {
     "name": "stdout",
     "output_type": "stream",
     "text": [
      "Microsoft Windows [Version 10.0.14393]\r\n",
      "(c) 2016 Microsoft Corporation. All rights reserved.\r\n",
      "\r\n",
      "C:\\Users\\Jerry>md C:\\Users\\Jerry\\Desktop\\ECON3382\\\n",
      "\r\n",
      "C:\\Users\\Jerry>cd Desktop\\ECON3382\n",
      "\r\n",
      "C:\\Users\\Jerry\\Desktop\\ECON3382>git config --global user.name \"captaincrunchandcereal\"\n",
      "\r\n",
      "C:\\Users\\Jerry\\Desktop\\ECON3382>git config --global user.email \"captaincrunchandcereal@gmail.com\"\n",
      "\r\n",
      "C:\\Users\\Jerry\\Desktop\\ECON3382>git config --global credential.helper 'store econ338202'\n",
      "\r\n",
      "C:\\Users\\Jerry\\Desktop\\ECON3382>git clone https://github.com/captaincrunchandcereal/ECON338202.git\n",
      "\r\n",
      "C:\\Users\\Jerry\\Desktop\\ECON3382>cd ECON338202\n",
      "\r\n",
      "C:\\Users\\Jerry\\Desktop\\ECON3382\\ECON338202>git init\n",
      "Reinitialized existing Git repository in C:/Users/Jerry/Desktop/ECON3382/ECON338202/.git/\n",
      "\r\n",
      "C:\\Users\\Jerry\\Desktop\\ECON3382\\ECON338202>echo.>test.txt\n",
      "\r\n",
      "C:\\Users\\Jerry\\Desktop\\ECON3382\\ECON338202>git add .\n",
      "\r\n",
      "C:\\Users\\Jerry\\Desktop\\ECON3382\\ECON338202>git commit -m \"First commit\"\n",
      "[master dad8126] First commit\n",
      " 1 file changed, 1 insertion(+)\n",
      " create mode 100644 test.txt\n",
      "\r\n",
      "C:\\Users\\Jerry\\Desktop\\ECON3382\\ECON338202>git remote add origin https://github.com/captaincrunchandcereal/ECON338202.git\n",
      "\r\n",
      "C:\\Users\\Jerry\\Desktop\\ECON3382\\ECON338202>git remote -v\n",
      "origin\thttps://github.com/captaincrunchandcereal/ECON338202.git (fetch)\n",
      "origin\thttps://github.com/captaincrunchandcereal/ECON338202.git (push)\n",
      "\r\n",
      "C:\\Users\\Jerry\\Desktop\\ECON3382\\ECON338202>git push origin master\n",
      "\r\n",
      "C:\\Users\\Jerry\\Desktop\\ECON3382\\ECON338202>"
     ]
    },
    {
     "name": "stderr",
     "output_type": "stream",
     "text": [
      "Cloning into 'ECON338202'...\n",
      "fatal: remote origin already exists.\n",
      "git: 'credential---add' is not a git command. See 'git --help'.\n",
      "git: 'credential---add' is not a git command. See 'git --help'.\n",
      "git credential-'store store: -c: line 0: unexpected EOF while looking for matching `''\n",
      "git credential-'store store: -c: line 1: syntax error: unexpected end of file\n",
      "git credential-'store store: -c: line 0: unexpected EOF while looking for matching `''\n",
      "git credential-'store store: -c: line 1: syntax error: unexpected end of file\n",
      "git credential-'store store: -c: line 0: unexpected EOF while looking for matching `''\n",
      "git credential-'store store: -c: line 1: syntax error: unexpected end of file\n",
      "git credential-'store store: -c: line 0: unexpected EOF while looking for matching `''\n",
      "git credential-'store store: -c: line 1: syntax error: unexpected end of file\n",
      "git credential-'store store: -c: line 0: unexpected EOF while looking for matching `''\n",
      "git credential-'store store: -c: line 1: syntax error: unexpected end of file\n",
      "git credential-'store store: -c: line 0: unexpected EOF while looking for matching `''\n",
      "git credential-'store store: -c: line 1: syntax error: unexpected end of file\n",
      "To https://github.com/captaincrunchandcereal/ECON338202.git\n",
      "   0b64fa6..dad8126  master -> master\n"
     ]
    }
   ],
   "source": [
    "%%cmd \\n git status \\n\n",
    "md C:\\Users\\Jerry\\Desktop\\ECON3382\\\n",
    "cd Desktop\\ECON3382\n",
    "git config --global user.name \"captaincrunchandcereal\"\n",
    "git config --global user.email \"captaincrunchandcereal@gmail.com\"\n",
    "git config --global credential.helper 'store econ338202'\n",
    "git clone https://github.com/captaincrunchandcereal/ECON338202.git\n",
    "cd ECON338202\n",
    "git init\n",
    "echo.>test.txt\n",
    "git add .\n",
    "git commit -m \"First commit\"\n",
    "git remote add origin https://github.com/captaincrunchandcereal/ECON338202.git\n",
    "git remote -v\n",
    "git push origin master"
   ]
  },
  {
   "cell_type": "code",
   "execution_count": 1,
   "metadata": {
    "collapsed": false
   },
   "outputs": [
    {
     "name": "stdout",
     "output_type": "stream",
     "text": [
      "Microsoft Windows [Version 10.0.14393]\r\n",
      "(c) 2016 Microsoft Corporation. All rights reserved.\r\n",
      "\r\n",
      "C:\\Users\\Jerry\\Desktop\\ECON3382\\ECON338202>cd Desktop\\ECON3382\\ECON338202\n",
      "\r\n",
      "C:\\Users\\Jerry\\Desktop\\ECON3382\\ECON338202>git add .\n",
      "\r\n",
      "C:\\Users\\Jerry\\Desktop\\ECON3382\\ECON338202>git commit -m \"Commit\"\n",
      "[master c24e568] Commit\n",
      " 3 files changed, 861 insertions(+)\n",
      " create mode 100644 .ipynb_checkpoints/Untitled-checkpoint.ipynb\n",
      " create mode 100644 AKER.csv\n",
      " create mode 100644 Untitled.ipynb\n",
      "\r\n",
      "C:\\Users\\Jerry\\Desktop\\ECON3382\\ECON338202>git remote add origin https://github.com/captaincrunchandcereal/ECON338202.git\n",
      "\r\n",
      "C:\\Users\\Jerry\\Desktop\\ECON3382\\ECON338202>git push origin master\n",
      "\r\n",
      "C:\\Users\\Jerry\\Desktop\\ECON3382\\ECON338202>"
     ]
    },
    {
     "name": "stderr",
     "output_type": "stream",
     "text": [
      "The system cannot find the path specified.\r\n",
      "warning: LF will be replaced by CRLF in .ipynb_checkpoints/Untitled-checkpoint.ipynb.\n",
      "The file will have its original line endings in your working directory.\n",
      "warning: LF will be replaced by CRLF in Untitled.ipynb.\n",
      "The file will have its original line endings in your working directory.\n",
      "fatal: remote origin already exists.\n",
      "git: 'credential---add' is not a git command. See 'git --help'.\n",
      "git: 'credential---add' is not a git command. See 'git --help'.\n",
      "git credential-'store store: -c: line 0: unexpected EOF while looking for matching `''\n",
      "git credential-'store store: -c: line 1: syntax error: unexpected end of file\n",
      "git credential-'store store: -c: line 0: unexpected EOF while looking for matching `''\n",
      "git credential-'store store: -c: line 1: syntax error: unexpected end of file\n",
      "git credential-'store store: -c: line 0: unexpected EOF while looking for matching `''\n",
      "git credential-'store store: -c: line 1: syntax error: unexpected end of file\n",
      "git credential-'store store: -c: line 0: unexpected EOF while looking for matching `''\n",
      "git credential-'store store: -c: line 1: syntax error: unexpected end of file\n",
      "git credential-'store store: -c: line 0: unexpected EOF while looking for matching `''\n",
      "git credential-'store store: -c: line 1: syntax error: unexpected end of file\n",
      "git credential-'store store: -c: line 0: unexpected EOF while looking for matching `''\n",
      "git credential-'store store: -c: line 1: syntax error: unexpected end of file\n",
      "To https://github.com/captaincrunchandcereal/ECON338202.git\n",
      "   dad8126..c24e568  master -> master\n"
     ]
    }
   ],
   "source": [
    "%%cmd \\n git status \\n\n",
    "cd Desktop\\ECON3382\\ECON338202\n",
    "git add .\n",
    "git commit -m \"Commit\"\n",
    "git remote add origin https://github.com/captaincrunchandcereal/ECON338202.git\n",
    "git push origin master"
   ]
  },
  {
   "cell_type": "code",
   "execution_count": null,
   "metadata": {
    "collapsed": true
   },
   "outputs": [],
   "source": []
  }
 ],
 "metadata": {
  "anaconda-cloud": {},
  "kernelspec": {
   "display_name": "Python [default]",
   "language": "python",
   "name": "python2"
  },
  "language_info": {
   "codemirror_mode": {
    "name": "ipython",
    "version": 2
   },
   "file_extension": ".py",
   "mimetype": "text/x-python",
   "name": "python",
   "nbconvert_exporter": "python",
   "pygments_lexer": "ipython2",
   "version": "2.7.12"
  }
 },
 "nbformat": 4,
 "nbformat_minor": 1
}
