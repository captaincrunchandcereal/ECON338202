{
 "cells": [
  {
   "cell_type": "code",
   "execution_count": 1,
   "metadata": {
    "collapsed": false
   },
   "outputs": [
    {
     "name": "stdout",
     "output_type": "stream",
     "text": [
      "Requirement already satisfied (use --upgrade to upgrade): pytrends in c:\\users\\jerry\\anaconda2\\lib\\site-packages\n",
      "Requirement already satisfied (use --upgrade to upgrade): BeautifulSoup4 in c:\\users\\jerry\\anaconda2\\lib\\site-packages (from pytrends)\n",
      "Requirement already satisfied (use --upgrade to upgrade): lxml in c:\\users\\jerry\\anaconda2\\lib\\site-packages (from pytrends)\n",
      "Requirement already satisfied (use --upgrade to upgrade): pandas in c:\\users\\jerry\\anaconda2\\lib\\site-packages (from pytrends)\n",
      "Requirement already satisfied (use --upgrade to upgrade): requests in c:\\users\\jerry\\anaconda2\\lib\\site-packages (from pytrends)\n",
      "Requirement already satisfied (use --upgrade to upgrade): python-dateutil in c:\\users\\jerry\\anaconda2\\lib\\site-packages (from pandas->pytrends)\n",
      "Requirement already satisfied (use --upgrade to upgrade): pytz>=2011k in c:\\users\\jerry\\anaconda2\\lib\\site-packages (from pandas->pytrends)\n",
      "Requirement already satisfied (use --upgrade to upgrade): numpy>=1.7.0 in c:\\users\\jerry\\anaconda2\\lib\\site-packages (from pandas->pytrends)\n",
      "Requirement already satisfied (use --upgrade to upgrade): six>=1.5 in c:\\users\\jerry\\anaconda2\\lib\\site-packages (from python-dateutil->pandas->pytrends)\n"
     ]
    },
    {
     "name": "stderr",
     "output_type": "stream",
     "text": [
      "You are using pip version 8.1.2, however version 9.0.1 is available.\n",
      "You should consider upgrading via the 'python -m pip install --upgrade pip' command.\n"
     ]
    }
   ],
   "source": [
    "!pip install pytrends\n",
    "import pytrends as pyt\n",
    "from pytrends.request import TrendReq"
   ]
  },
  {
   "cell_type": "code",
   "execution_count": 2,
   "metadata": {
    "collapsed": false
   },
   "outputs": [
    {
     "name": "stdout",
     "output_type": "stream",
     "text": [
      "Requirement already satisfied (use --upgrade to upgrade): schedule in c:\\users\\jerry\\anaconda2\\lib\\site-packages\n"
     ]
    },
    {
     "name": "stderr",
     "output_type": "stream",
     "text": [
      "You are using pip version 8.1.2, however version 9.0.1 is available.\n",
      "You should consider upgrading via the 'python -m pip install --upgrade pip' command.\n"
     ]
    }
   ],
   "source": [
    "!pip install schedule\n",
    "import schedule\n",
    "import time"
   ]
  },
  {
   "cell_type": "code",
   "execution_count": 3,
   "metadata": {
    "collapsed": true
   },
   "outputs": [],
   "source": [
    "import pandas as pd\n",
    "import numpy as np"
   ]
  },
  {
   "cell_type": "code",
   "execution_count": 4,
   "metadata": {
    "collapsed": true
   },
   "outputs": [],
   "source": [
    "from datetime import datetime\n",
    "from datetime import timedelta\n",
    "import datetime"
   ]
  },
  {
   "cell_type": "code",
   "execution_count": 5,
   "metadata": {
    "collapsed": false
   },
   "outputs": [
    {
     "name": "stdout",
     "output_type": "stream",
     "text": [
      "91\n"
     ]
    }
   ],
   "source": [
    "cmplst = pd.read_csv('companylist.csv')\n",
    "tickers = cmplst.T.ix[0]\n",
    "print len(tickers)"
   ]
  },
  {
   "cell_type": "code",
   "execution_count": 6,
   "metadata": {
    "collapsed": false
   },
   "outputs": [],
   "source": [
    "google_username = 'captaincrunchandcereal@gmail.com'\n",
    "google_password = 'econ338202!'\n",
    "\n",
    "path = \"\"\n",
    "\n",
    "#connect to Google\n",
    "pytrend = TrendReq(google_username, google_password, custom_useragent = 'My Pytrends Script')"
   ]
  },
  {
   "cell_type": "code",
   "execution_count": 7,
   "metadata": {
    "collapsed": true
   },
   "outputs": [],
   "source": [
    "def google_query(company):\n",
    "    trend_payload = {'q':company, 'date' : 'today 3-m'}\n",
    "    trend = pytrend.trend(trend_payload)\n",
    "    df1 = pytrend.trend(trend_payload, return_type = 'dataframe')\n",
    "    return df1"
   ]
  },
  {
   "cell_type": "code",
   "execution_count": 8,
   "metadata": {
    "collapsed": true
   },
   "outputs": [],
   "source": [
    "def meanRevert(df,k=7,m=1):\n",
    "    mean = df[df.columns[0]].rolling(window = k).mean()\n",
    "    stddev = df[df.columns[0]].rolling(window = k).std()\n",
    "    buy=df[df.columns[0]]<(mean-m*stddev)\n",
    "    sell=df[df.columns[0]]>(mean+m*stddev)\n",
    "    Order=buy*1+sell*-1\n",
    "    df[\"Order\"] = Order\n",
    "    return df"
   ]
  },
  {
   "cell_type": "code",
   "execution_count": 139,
   "metadata": {
    "collapsed": false
   },
   "outputs": [],
   "source": [
    "def buysignal(df,i,k=7,m=1):\n",
    "    mean = df[df.columns[i]].rolling(window = k).mean()\n",
    "    stddev = df[df.columns[i]].rolling(window = k).std()\n",
    "    buy=df[df.columns[i]]>(mean-m*stddev)\n",
    "    order=buy*1\n",
    "    return order\n",
    "\n",
    "def signal_df(df, k=7, m=1):\n",
    "    df2=df\n",
    "    for i in range(0, len(df.columns)):\n",
    "        df2[str(df.columns[i])]=buysignal(df,i)\n",
    "    return df2\n",
    "\n",
    "def buylist(dummydf):\n",
    "    datelist = dummydf.index\n",
    "    #print datelist\n",
    "    bigbuylist = []\n",
    "    for row in range(len(dummydf)): \n",
    "        littlebuylist=[]\n",
    "        for column in range(1, len(dummydf.columns)):\n",
    "            if dummydf.ix[row,column] == 1:\n",
    "                littlebuylist.append(dummydf.columns[column])   \n",
    "        #bigbuylist.append(','.join(littlebuylist))\n",
    "        #bigbuylist.append(str(littlebuylist).strip('[]'))\n",
    "        bigbuylist.append(','.join(map(str, littlebuylist)))\n",
    "    #print bigbuylist\n",
    "    return pd.DataFrame({\"Date\": datelist,\n",
    "                         \"BuyList\": bigbuylist}).set_index('Date')\n"
   ]
  },
  {
   "cell_type": "code",
   "execution_count": 14,
   "metadata": {
    "collapsed": false
   },
   "outputs": [
    {
     "data": {
      "text/plain": [
       "Every 1 day at 00:37:00 do job() (last run: [never], next run: 2016-12-05 00:37:00)"
      ]
     },
     "execution_count": 14,
     "metadata": {},
     "output_type": "execute_result"
    }
   ],
   "source": [
    "def job():\n",
    "    print (1), (tickers[0])\n",
    "    print datetime.datetime.now()\n",
    "    df0 = google_query(tickers[0])\n",
    "    dflist = [df0]\n",
    "    for i in range(1,27):\n",
    "        print (i+1),tickers[i] \n",
    "        for t in range(660):\n",
    "            time.sleep(1)\n",
    "        dfi = google_query(tickers[i])\n",
    "        dflist.append(dfi)\n",
    "        print datetime.datetime.now()\n",
    "    masterdf = pd.concat(dflist, axis=1)\n",
    "    masterdf1 = buylist(signal_df(masterdf, k=7, m=1))\n",
    "    masterdf1.to_csv('masterdf1')\n",
    "    !git add .\n",
    "    !git commit -m \"replace\"\n",
    "    !git remote add origin https://github.com/captaincrunchandcereal/ECON338202.git\n",
    "    !git remote -v\n",
    "    !git push -f origin master\n",
    "    #Timer(40, task(i), ()).start()\n",
    "    #task(i)\n",
    "        \n",
    "#Note: Inconsistent lookback window of google trends data: on Friday, 11/18, I could use past 90 days' data up to 11/14\n",
    "#Fill in those essential missing values with rescaling of sampled hourly data from last 7 days?\n",
    "        \n",
    "#Get csvs to overwrite\n",
    "    \n",
    "#Note to self--get rid of tickers that don't get google search data: COYNW\n",
    "    \n",
    "#schedule.do(job)\n",
    "schedule.clear()\n",
    "schedule.every().day.at(\"19:03\").do(job)"
   ]
  },
  {
   "cell_type": "code",
   "execution_count": 15,
   "metadata": {
    "collapsed": false,
    "scrolled": false
   },
   "outputs": [
    {
     "name": "stdout",
     "output_type": "stream",
     "text": [
      "1 IOTS\n",
      "2016-12-05 00:37:00.994000\n",
      "2 ACY\n"
     ]
    },
    {
     "ename": "KeyboardInterrupt",
     "evalue": "",
     "output_type": "error",
     "traceback": [
      "\u001b[0;31m---------------------------------------------------------------------------\u001b[0m",
      "\u001b[0;31mKeyboardInterrupt\u001b[0m                         Traceback (most recent call last)",
      "\u001b[0;32m<ipython-input-15-e958909b1ed1>\u001b[0m in \u001b[0;36m<module>\u001b[0;34m()\u001b[0m\n\u001b[1;32m      1\u001b[0m \u001b[1;32mwhile\u001b[0m \u001b[0mTrue\u001b[0m\u001b[1;33m:\u001b[0m\u001b[1;33m\u001b[0m\u001b[0m\n\u001b[0;32m----> 2\u001b[0;31m     \u001b[0mschedule\u001b[0m\u001b[1;33m.\u001b[0m\u001b[0mrun_pending\u001b[0m\u001b[1;33m(\u001b[0m\u001b[1;33m)\u001b[0m\u001b[1;33m\u001b[0m\u001b[0m\n\u001b[0m\u001b[1;32m      3\u001b[0m     \u001b[0mtime\u001b[0m\u001b[1;33m.\u001b[0m\u001b[0msleep\u001b[0m\u001b[1;33m(\u001b[0m\u001b[1;36m1\u001b[0m\u001b[1;33m)\u001b[0m\u001b[1;33m\u001b[0m\u001b[0m\n",
      "\u001b[0;32mC:\\Users\\Jerry\\Anaconda2\\lib\\site-packages\\schedule\\__init__.pyc\u001b[0m in \u001b[0;36mrun_pending\u001b[0;34m()\u001b[0m\n\u001b[1;32m    365\u001b[0m     \u001b[0mbetween\u001b[0m \u001b[0mbut\u001b[0m \u001b[0monly\u001b[0m \u001b[0monce\u001b[0m\u001b[1;33m.\u001b[0m\u001b[1;33m\u001b[0m\u001b[0m\n\u001b[1;32m    366\u001b[0m     \"\"\"\n\u001b[0;32m--> 367\u001b[0;31m     \u001b[0mdefault_scheduler\u001b[0m\u001b[1;33m.\u001b[0m\u001b[0mrun_pending\u001b[0m\u001b[1;33m(\u001b[0m\u001b[1;33m)\u001b[0m\u001b[1;33m\u001b[0m\u001b[0m\n\u001b[0m\u001b[1;32m    368\u001b[0m \u001b[1;33m\u001b[0m\u001b[0m\n\u001b[1;32m    369\u001b[0m \u001b[1;33m\u001b[0m\u001b[0m\n",
      "\u001b[0;32mC:\\Users\\Jerry\\Anaconda2\\lib\\site-packages\\schedule\\__init__.pyc\u001b[0m in \u001b[0;36mrun_pending\u001b[0;34m(self)\u001b[0m\n\u001b[1;32m     62\u001b[0m         \u001b[0mrunnable_jobs\u001b[0m \u001b[1;33m=\u001b[0m \u001b[1;33m(\u001b[0m\u001b[0mjob\u001b[0m \u001b[1;32mfor\u001b[0m \u001b[0mjob\u001b[0m \u001b[1;32min\u001b[0m \u001b[0mself\u001b[0m\u001b[1;33m.\u001b[0m\u001b[0mjobs\u001b[0m \u001b[1;32mif\u001b[0m \u001b[0mjob\u001b[0m\u001b[1;33m.\u001b[0m\u001b[0mshould_run\u001b[0m\u001b[1;33m)\u001b[0m\u001b[1;33m\u001b[0m\u001b[0m\n\u001b[1;32m     63\u001b[0m         \u001b[1;32mfor\u001b[0m \u001b[0mjob\u001b[0m \u001b[1;32min\u001b[0m \u001b[0msorted\u001b[0m\u001b[1;33m(\u001b[0m\u001b[0mrunnable_jobs\u001b[0m\u001b[1;33m)\u001b[0m\u001b[1;33m:\u001b[0m\u001b[1;33m\u001b[0m\u001b[0m\n\u001b[0;32m---> 64\u001b[0;31m             \u001b[0mself\u001b[0m\u001b[1;33m.\u001b[0m\u001b[0m_run_job\u001b[0m\u001b[1;33m(\u001b[0m\u001b[0mjob\u001b[0m\u001b[1;33m)\u001b[0m\u001b[1;33m\u001b[0m\u001b[0m\n\u001b[0m\u001b[1;32m     65\u001b[0m \u001b[1;33m\u001b[0m\u001b[0m\n\u001b[1;32m     66\u001b[0m     \u001b[1;32mdef\u001b[0m \u001b[0mrun_all\u001b[0m\u001b[1;33m(\u001b[0m\u001b[0mself\u001b[0m\u001b[1;33m,\u001b[0m \u001b[0mdelay_seconds\u001b[0m\u001b[1;33m=\u001b[0m\u001b[1;36m0\u001b[0m\u001b[1;33m)\u001b[0m\u001b[1;33m:\u001b[0m\u001b[1;33m\u001b[0m\u001b[0m\n",
      "\u001b[0;32mC:\\Users\\Jerry\\Anaconda2\\lib\\site-packages\\schedule\\__init__.pyc\u001b[0m in \u001b[0;36m_run_job\u001b[0;34m(self, job)\u001b[0m\n\u001b[1;32m     94\u001b[0m \u001b[1;33m\u001b[0m\u001b[0m\n\u001b[1;32m     95\u001b[0m     \u001b[1;32mdef\u001b[0m \u001b[0m_run_job\u001b[0m\u001b[1;33m(\u001b[0m\u001b[0mself\u001b[0m\u001b[1;33m,\u001b[0m \u001b[0mjob\u001b[0m\u001b[1;33m)\u001b[0m\u001b[1;33m:\u001b[0m\u001b[1;33m\u001b[0m\u001b[0m\n\u001b[0;32m---> 96\u001b[0;31m         \u001b[0mret\u001b[0m \u001b[1;33m=\u001b[0m \u001b[0mjob\u001b[0m\u001b[1;33m.\u001b[0m\u001b[0mrun\u001b[0m\u001b[1;33m(\u001b[0m\u001b[1;33m)\u001b[0m\u001b[1;33m\u001b[0m\u001b[0m\n\u001b[0m\u001b[1;32m     97\u001b[0m         \u001b[1;32mif\u001b[0m \u001b[0misinstance\u001b[0m\u001b[1;33m(\u001b[0m\u001b[0mret\u001b[0m\u001b[1;33m,\u001b[0m \u001b[0mCancelJob\u001b[0m\u001b[1;33m)\u001b[0m \u001b[1;32mor\u001b[0m \u001b[0mret\u001b[0m \u001b[1;32mis\u001b[0m \u001b[0mCancelJob\u001b[0m\u001b[1;33m:\u001b[0m\u001b[1;33m\u001b[0m\u001b[0m\n\u001b[1;32m     98\u001b[0m             \u001b[0mself\u001b[0m\u001b[1;33m.\u001b[0m\u001b[0mcancel_job\u001b[0m\u001b[1;33m(\u001b[0m\u001b[0mjob\u001b[0m\u001b[1;33m)\u001b[0m\u001b[1;33m\u001b[0m\u001b[0m\n",
      "\u001b[0;32mC:\\Users\\Jerry\\Anaconda2\\lib\\site-packages\\schedule\\__init__.pyc\u001b[0m in \u001b[0;36mrun\u001b[0;34m(self)\u001b[0m\n\u001b[1;32m    291\u001b[0m         \u001b[1;34m\"\"\"Run the job and immediately reschedule it.\"\"\"\u001b[0m\u001b[1;33m\u001b[0m\u001b[0m\n\u001b[1;32m    292\u001b[0m         \u001b[0mlogger\u001b[0m\u001b[1;33m.\u001b[0m\u001b[0minfo\u001b[0m\u001b[1;33m(\u001b[0m\u001b[1;34m'Running job %s'\u001b[0m\u001b[1;33m,\u001b[0m \u001b[0mself\u001b[0m\u001b[1;33m)\u001b[0m\u001b[1;33m\u001b[0m\u001b[0m\n\u001b[0;32m--> 293\u001b[0;31m         \u001b[0mret\u001b[0m \u001b[1;33m=\u001b[0m \u001b[0mself\u001b[0m\u001b[1;33m.\u001b[0m\u001b[0mjob_func\u001b[0m\u001b[1;33m(\u001b[0m\u001b[1;33m)\u001b[0m\u001b[1;33m\u001b[0m\u001b[0m\n\u001b[0m\u001b[1;32m    294\u001b[0m         \u001b[0mself\u001b[0m\u001b[1;33m.\u001b[0m\u001b[0mlast_run\u001b[0m \u001b[1;33m=\u001b[0m \u001b[0mdatetime\u001b[0m\u001b[1;33m.\u001b[0m\u001b[0mdatetime\u001b[0m\u001b[1;33m.\u001b[0m\u001b[0mnow\u001b[0m\u001b[1;33m(\u001b[0m\u001b[1;33m)\u001b[0m\u001b[1;33m\u001b[0m\u001b[0m\n\u001b[1;32m    295\u001b[0m         \u001b[0mself\u001b[0m\u001b[1;33m.\u001b[0m\u001b[0m_schedule_next_run\u001b[0m\u001b[1;33m(\u001b[0m\u001b[1;33m)\u001b[0m\u001b[1;33m\u001b[0m\u001b[0m\n",
      "\u001b[0;32m<ipython-input-14-da8225b17f56>\u001b[0m in \u001b[0;36mjob\u001b[0;34m()\u001b[0m\n\u001b[1;32m      7\u001b[0m         \u001b[1;32mprint\u001b[0m \u001b[1;33m(\u001b[0m\u001b[0mi\u001b[0m\u001b[1;33m+\u001b[0m\u001b[1;36m1\u001b[0m\u001b[1;33m)\u001b[0m\u001b[1;33m,\u001b[0m\u001b[0mtickers\u001b[0m\u001b[1;33m[\u001b[0m\u001b[0mi\u001b[0m\u001b[1;33m]\u001b[0m\u001b[1;33m\u001b[0m\u001b[0m\n\u001b[1;32m      8\u001b[0m         \u001b[1;32mfor\u001b[0m \u001b[0mt\u001b[0m \u001b[1;32min\u001b[0m \u001b[0mrange\u001b[0m\u001b[1;33m(\u001b[0m\u001b[1;36m660\u001b[0m\u001b[1;33m)\u001b[0m\u001b[1;33m:\u001b[0m\u001b[1;33m\u001b[0m\u001b[0m\n\u001b[0;32m----> 9\u001b[0;31m             \u001b[0mtime\u001b[0m\u001b[1;33m.\u001b[0m\u001b[0msleep\u001b[0m\u001b[1;33m(\u001b[0m\u001b[1;36m1\u001b[0m\u001b[1;33m)\u001b[0m\u001b[1;33m\u001b[0m\u001b[0m\n\u001b[0m\u001b[1;32m     10\u001b[0m         \u001b[0mdfi\u001b[0m \u001b[1;33m=\u001b[0m \u001b[0mgoogle_query\u001b[0m\u001b[1;33m(\u001b[0m\u001b[0mtickers\u001b[0m\u001b[1;33m[\u001b[0m\u001b[0mi\u001b[0m\u001b[1;33m]\u001b[0m\u001b[1;33m)\u001b[0m\u001b[1;33m\u001b[0m\u001b[0m\n\u001b[1;32m     11\u001b[0m         \u001b[0mdflist\u001b[0m\u001b[1;33m.\u001b[0m\u001b[0mappend\u001b[0m\u001b[1;33m(\u001b[0m\u001b[0mdfi\u001b[0m\u001b[1;33m)\u001b[0m\u001b[1;33m\u001b[0m\u001b[0m\n",
      "\u001b[0;31mKeyboardInterrupt\u001b[0m: "
     ]
    }
   ],
   "source": [
    "while True:\n",
    "    schedule.run_pending()\n",
    "    time.sleep(1)"
   ]
  },
  {
   "cell_type": "code",
   "execution_count": null,
   "metadata": {
    "collapsed": false
   },
   "outputs": [],
   "source": [
    "#initialize github repository\n",
    "\n",
    "!git init\n",
    "!git add .\n",
    "!git commit -m \"init only\"\n",
    "!git remote add origin https://github.com/captaincrunchandcereal/ECON338202.git\n",
    "!git remote -v\n",
    "!git push -f origin master"
   ]
  },
  {
   "cell_type": "code",
   "execution_count": 138,
   "metadata": {
    "collapsed": false
   },
   "outputs": [
    {
     "name": "stderr",
     "output_type": "stream",
     "text": [
      "warning: LF will be replaced by CRLF in Untitled.ipynb.\n",
      "The file will have its original line endings in your working directory.\n"
     ]
    },
    {
     "name": "stdout",
     "output_type": "stream",
     "text": [
      "[master fd2967d] replace\n",
      " 2 files changed, 275 insertions(+), 13 deletions(-)\n",
      " create mode 100644 testdf\n"
     ]
    },
    {
     "name": "stderr",
     "output_type": "stream",
     "text": [
      "fatal: remote origin already exists.\n"
     ]
    },
    {
     "name": "stdout",
     "output_type": "stream",
     "text": [
      "origin\thttps://github.com/captaincrunchandcereal/ECON338202.git (fetch)\n",
      "origin\thttps://github.com/captaincrunchandcereal/ECON338202.git (push)\n"
     ]
    },
    {
     "name": "stderr",
     "output_type": "stream",
     "text": [
      "git: 'credential---add' is not a git command. See 'git --help'.\n",
      "git: 'credential---add' is not a git command. See 'git --help'.\n",
      "git credential-'store store: -c: line 0: unexpected EOF while looking for matching `''\n",
      "git credential-'store store: -c: line 1: syntax error: unexpected end of file\n",
      "git credential-'store store: -c: line 0: unexpected EOF while looking for matching `''\n",
      "git credential-'store store: -c: line 1: syntax error: unexpected end of file\n",
      "git credential-'store store: -c: line 0: unexpected EOF while looking for matching `''\n",
      "git credential-'store store: -c: line 1: syntax error: unexpected end of file\n",
      "git credential-'store store: -c: line 0: unexpected EOF while looking for matching `''\n",
      "git credential-'store store: -c: line 1: syntax error: unexpected end of file\n",
      "git credential-'store store: -c: line 0: unexpected EOF while looking for matching `''\n",
      "git credential-'store store: -c: line 1: syntax error: unexpected end of file\n",
      "git credential-'store store: -c: line 0: unexpected EOF while looking for matching `''\n",
      "git credential-'store store: -c: line 1: syntax error: unexpected end of file\n",
      "git credential-'store store: -c: line 0: unexpected EOF while looking for matching `''\n",
      "git credential-'store store: -c: line 1: syntax error: unexpected end of file\n",
      "git credential-'store store: -c: line 0: unexpected EOF while looking for matching `''\n",
      "git credential-'store store: -c: line 1: syntax error: unexpected end of file\n",
      "To https://github.com/captaincrunchandcereal/ECON338202.git\n",
      "   90a363f..fd2967d  master -> master\n"
     ]
    }
   ],
   "source": [
    "#manual github push\n",
    "!git add .\n",
    "!git commit -m \"replace\"\n",
    "!git remote add origin https://github.com/captaincrunchandcereal/ECON338202.git\n",
    "!git remote -v\n",
    "!git push -f origin master"
   ]
  },
  {
   "cell_type": "code",
   "execution_count": 17,
   "metadata": {
    "collapsed": false
   },
   "outputs": [
    {
     "name": "stdout",
     "output_type": "stream",
     "text": [
      "2 ACY\n"
     ]
    }
   ],
   "source": [
    "df0 = google_query(tickers[0])\n",
    "dflist = [df0]\n",
    "for i in range(1,2):\n",
    "    print (i+1),tickers[i] \n",
    "    dfi = google_query(tickers[i])\n",
    "    dflist.append(dfi)"
   ]
  },
  {
   "cell_type": "code",
   "execution_count": 134,
   "metadata": {
    "collapsed": true
   },
   "outputs": [],
   "source": [
    "df2 = google_query(tickers[2])\n",
    "dflist.append(df2)"
   ]
  },
  {
   "cell_type": "code",
   "execution_count": 135,
   "metadata": {
    "collapsed": false
   },
   "outputs": [
    {
     "name": "stdout",
     "output_type": "stream",
     "text": [
      "            iots   acy   acy  bosc   bdr   blin   wga\n",
      "Date                                                 \n",
      "2016-09-06  25.0  41.0  41.0  33.0  75.0   57.0  54.0\n",
      "2016-09-07  26.0  58.0  58.0  44.0  66.0  100.0  74.0\n",
      "2016-09-08  26.0  42.0  42.0  45.0  54.0   65.0  51.0\n",
      "2016-09-09  26.0  59.0  59.0  54.0  42.0   53.0  78.0\n",
      "2016-09-10  44.0  24.0  24.0  24.0  45.0   16.0  38.0\n",
      "acy\n"
     ]
    }
   ],
   "source": [
    "masterdf = pd.concat(dflist, axis=1)\n",
    "print masterdf.head()\n",
    "print masterdf.columns[1]"
   ]
  },
  {
   "cell_type": "code",
   "execution_count": 136,
   "metadata": {
    "collapsed": false
   },
   "outputs": [
    {
     "name": "stdout",
     "output_type": "stream",
     "text": [
      "                                   BuyList\n",
      "Date                                      \n",
      "2016-09-06                                \n",
      "2016-09-07                                \n",
      "2016-09-08                                \n",
      "2016-09-09                                \n",
      "2016-09-10                                \n",
      "2016-09-11                                \n",
      "2016-09-12  acy, acy, bosc, bdr, blin, wga\n",
      "2016-09-13  acy, acy, bosc, bdr, blin, wga\n",
      "2016-09-14  acy, acy, bosc, bdr, blin, wga\n",
      "2016-09-15  acy, acy, bosc, bdr, blin, wga\n",
      "2016-09-16  acy, acy, bosc, bdr, blin, wga\n",
      "2016-09-17            bosc, bdr, blin, wga\n",
      "2016-09-18       acy, acy, bosc, bdr, blin\n",
      "2016-09-19       acy, acy, bosc, bdr, blin\n",
      "2016-09-20  acy, acy, bosc, bdr, blin, wga\n",
      "2016-09-21  acy, acy, bosc, bdr, blin, wga\n",
      "2016-09-22  acy, acy, bosc, bdr, blin, wga\n",
      "2016-09-23       acy, acy, bosc, blin, wga\n",
      "2016-09-24             acy, acy, blin, wga\n",
      "2016-09-25       acy, acy, bosc, bdr, blin\n",
      "2016-09-26  acy, acy, bosc, bdr, blin, wga\n",
      "2016-09-27        acy, acy, bosc, bdr, wga\n",
      "2016-09-28            bosc, bdr, blin, wga\n",
      "2016-09-29  acy, acy, bosc, bdr, blin, wga\n",
      "2016-09-30       acy, acy, bosc, blin, wga\n",
      "2016-10-01  acy, acy, bosc, bdr, blin, wga\n",
      "2016-10-02  acy, acy, bosc, bdr, blin, wga\n",
      "2016-10-03  acy, acy, bosc, bdr, blin, wga\n",
      "2016-10-04                  bosc, bdr, wga\n",
      "2016-10-05        acy, acy, bosc, bdr, wga\n"
     ]
    }
   ],
   "source": [
    "masterdf1 = buylist(signal_df(masterdf, k=7, m=1))\n",
    "print masterdf1.head(30)"
   ]
  },
  {
   "cell_type": "code",
   "execution_count": 137,
   "metadata": {
    "collapsed": true
   },
   "outputs": [],
   "source": [
    "masterdf1.to_csv('testdf')"
   ]
  },
  {
   "cell_type": "code",
   "execution_count": null,
   "metadata": {
    "collapsed": true
   },
   "outputs": [],
   "source": []
  }
 ],
 "metadata": {
  "anaconda-cloud": {},
  "kernelspec": {
   "display_name": "Python [conda root]",
   "language": "python",
   "name": "conda-root-py"
  },
  "language_info": {
   "codemirror_mode": {
    "name": "ipython",
    "version": 2
   },
   "file_extension": ".py",
   "mimetype": "text/x-python",
   "name": "python",
   "nbconvert_exporter": "python",
   "pygments_lexer": "ipython2",
   "version": "2.7.12"
  }
 },
 "nbformat": 4,
 "nbformat_minor": 1
}
