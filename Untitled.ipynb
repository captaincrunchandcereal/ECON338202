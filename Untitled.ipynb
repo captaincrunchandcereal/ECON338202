{
 "cells": [
  {
   "cell_type": "code",
   "execution_count": 1,
   "metadata": {
    "collapsed": false
   },
   "outputs": [
    {
     "name": "stdout",
     "output_type": "stream",
     "text": [
      "Requirement already satisfied (use --upgrade to upgrade): pytrends in c:\\users\\jerry\\anaconda2\\lib\\site-packages\n",
      "Requirement already satisfied (use --upgrade to upgrade): BeautifulSoup4 in c:\\users\\jerry\\anaconda2\\lib\\site-packages (from pytrends)\n",
      "Requirement already satisfied (use --upgrade to upgrade): lxml in c:\\users\\jerry\\anaconda2\\lib\\site-packages (from pytrends)\n",
      "Requirement already satisfied (use --upgrade to upgrade): pandas in c:\\users\\jerry\\anaconda2\\lib\\site-packages (from pytrends)\n",
      "Requirement already satisfied (use --upgrade to upgrade): requests in c:\\users\\jerry\\anaconda2\\lib\\site-packages (from pytrends)\n",
      "Requirement already satisfied (use --upgrade to upgrade): python-dateutil in c:\\users\\jerry\\anaconda2\\lib\\site-packages (from pandas->pytrends)\n",
      "Requirement already satisfied (use --upgrade to upgrade): pytz>=2011k in c:\\users\\jerry\\anaconda2\\lib\\site-packages (from pandas->pytrends)\n",
      "Requirement already satisfied (use --upgrade to upgrade): numpy>=1.7.0 in c:\\users\\jerry\\anaconda2\\lib\\site-packages (from pandas->pytrends)\n",
      "Requirement already satisfied (use --upgrade to upgrade): six>=1.5 in c:\\users\\jerry\\anaconda2\\lib\\site-packages (from python-dateutil->pandas->pytrends)\n"
     ]
    },
    {
     "name": "stderr",
     "output_type": "stream",
     "text": [
      "You are using pip version 8.1.2, however version 9.0.1 is available.\n",
      "You should consider upgrading via the 'python -m pip install --upgrade pip' command.\n"
     ]
    }
   ],
   "source": [
    "!pip install pytrends\n",
    "import pytrends as pyt\n",
    "from pytrends.request import TrendReq"
   ]
  },
  {
   "cell_type": "code",
   "execution_count": 2,
   "metadata": {
    "collapsed": false
   },
   "outputs": [
    {
     "name": "stdout",
     "output_type": "stream",
     "text": [
      "Requirement already satisfied (use --upgrade to upgrade): schedule in c:\\users\\jerry\\anaconda2\\lib\\site-packages\n"
     ]
    },
    {
     "name": "stderr",
     "output_type": "stream",
     "text": [
      "You are using pip version 8.1.2, however version 9.0.1 is available.\n",
      "You should consider upgrading via the 'python -m pip install --upgrade pip' command.\n"
     ]
    }
   ],
   "source": [
    "!pip install schedule\n",
    "import schedule\n",
    "import time"
   ]
  },
  {
   "cell_type": "code",
   "execution_count": 3,
   "metadata": {
    "collapsed": true
   },
   "outputs": [],
   "source": [
    "import pandas as pd\n",
    "import numpy as np"
   ]
  },
  {
   "cell_type": "code",
   "execution_count": 4,
   "metadata": {
    "collapsed": true
   },
   "outputs": [],
   "source": [
    "from datetime import datetime\n",
    "from datetime import timedelta"
   ]
  },
  {
   "cell_type": "code",
   "execution_count": 5,
   "metadata": {
    "collapsed": true
   },
   "outputs": [],
   "source": [
    "import datetime"
   ]
  },
  {
   "cell_type": "code",
   "execution_count": 21,
   "metadata": {
    "collapsed": false
   },
   "outputs": [
    {
     "name": "stdout",
     "output_type": "stream",
     "text": [
      "            Symbol                                           Name  LastSale  \\\n",
      "0             IOTS                Adesto Technologies Corporation    1.7000   \n",
      "1              ACY                              AeroCentury Corp.    9.4000   \n",
      "2              WGA                            AG&E Holdings, Inc.    0.2300   \n",
      "3             BOSC                 B.O.S. Better Online Solutions    2.4000   \n",
      "4              BDR              Blonder Tongue Laboratories, Inc.    0.5400   \n",
      "5   BLIN                                 Bridgeline Digital, Inc.    0.6500   \n",
      "6             BVSN                              BroadVision, Inc.    5.0900   \n",
      "7              CVR                    Chicago Rivet & Machine Co.   33.6000   \n",
      "8             CNIT             China Information Technology, Inc.    0.8875   \n",
      "9             CNET                 ChinaNet Online Holdings, Inc.    1.3900   \n",
      "10            CLNT        Cleantech Solutions International, Inc.    0.8001   \n",
      "11            CNXR                               Connecture, Inc.    1.9000   \n",
      "12            COYN                                  COPsync, Inc.    1.0500   \n",
      "13            CPAH                        CounterPath Corporation    1.8800   \n",
      "14            CRDS                       Crossroads Systems, Inc.    5.1200   \n",
      "15            CSPI                                       CSP Inc.   10.4116   \n",
      "16            DRAM                            Dataram Corporation    1.0884   \n",
      "17            DTRM                               Determine, Inc.     2.0800   \n",
      "18            DGLY                             Digital Ally, Inc.    5.0000   \n",
      "19            ELON                            Echelon Corporation    4.3244   \n",
      "20            EFUT                           eFuture Holding Inc.    6.2700   \n",
      "21            ELTK                                     Eltek Ltd.    0.8500   \n",
      "22            EVOL                         Evolving Systems, Inc.    3.9500   \n",
      "23            FALC                      FalconStor Software, Inc.    0.6600   \n",
      "24            FNCX                               Function(x) Inc.    4.4500   \n",
      "25            FSNN  Fusion Telecommunications International, Inc.    1.4400   \n",
      "26             JOB                                 GEE Group Inc.    4.7400   \n",
      "27           GFNCP                    General Finance Corporation   89.4800   \n",
      "28           GFNSL                    General Finance Corporation   24.0600   \n",
      "29            GIGM                              GigaMedia Limited    2.5300   \n",
      "..             ...                                            ...       ...   \n",
      "61            IPDN           Professional Diversity Network, Inc.    7.5100   \n",
      "62            QBAK                           Qualstar Corporation    2.9000   \n",
      "63            QRHC            Quest Resource Holding Corporation.    1.9700   \n",
      "64            QUMU                               Qumu Corporation    3.0499   \n",
      "65            RBCN                       Rubicon Technology, Inc.    0.5299   \n",
      "66            LEDS                           SemiLEDS Corporation    3.9100   \n",
      "67            SGOC                               SGOCO Group, Ltd    3.6050   \n",
      "68            SHSP                              SharpSpring, Inc.    5.1300   \n",
      "69            SGMA                  SigmaTron International, Inc.    5.2200   \n",
      "70            SMSI                     Smith Micro Software, Inc.    1.6200   \n",
      "71            SMTX                               SMTC Corporation    1.3500   \n",
      "72            SRAX                           Social Reality, Inc.    6.2500   \n",
      "73            SCKT                            Socket Mobile, Inc.    3.3800   \n",
      "74            SOFO                            Sonic Foundry, Inc.    5.0600   \n",
      "75             ANY                                Sphere 3D Corp.    0.5491   \n",
      "76            STAF                   Staffing 360 Solutions, Inc.    1.0200   \n",
      "77            STRM              Streamline Health Solutions, Inc.    1.7300   \n",
      "78            SPCB                                 SuperCom, Ltd.    2.8600   \n",
      "79            SCON               Superconductor Technologies Inc.    2.0900   \n",
      "80            SPRT                              support.com, Inc.    0.7220   \n",
      "81            SYRX                                 Sysorex Global    0.1805   \n",
      "82            TCCO           Technical Communications Corporation    2.7500   \n",
      "83            TISA                        Top Image Systems, Ltd.    1.6500   \n",
      "84            TACT             TransAct Technologies Incorporated    6.4500   \n",
      "85             TRT                        Trio-Tech International    3.2400   \n",
      "86            TSRI                                      TSR, Inc.    5.8000   \n",
      "87            VISN                        VisionChina Media, Inc.    5.5000   \n",
      "88            WSCI                            WSI Industries Inc.    2.8358   \n",
      "89            XPLR                       Xplore Technologies Corp    2.4300   \n",
      "90            ZDGE                                    Zedge, Inc.    3.6300   \n",
      "\n",
      "       MarketCap  ADR TSO IPOyear      Sector  \\\n",
      "0   2.633292e+07      n/a    2015  Technology   \n",
      "1   1.472697e+07      n/a     n/a  Technology   \n",
      "2   2.679270e+06      n/a     n/a  Technology   \n",
      "3   6.386767e+06      n/a     n/a  Technology   \n",
      "4   4.372810e+06      n/a     n/a  Technology   \n",
      "5   1.213034e+07      n/a     n/a  Technology   \n",
      "6   2.518780e+07      n/a    1996  Technology   \n",
      "7   3.246204e+07      n/a     n/a  Technology   \n",
      "8   3.559865e+07      n/a     n/a  Technology   \n",
      "9   1.690002e+07      n/a     n/a  Technology   \n",
      "10  4.189712e+06      n/a     n/a  Technology   \n",
      "11  4.245505e+07      n/a    2014  Technology   \n",
      "12  9.361298e+06      n/a     n/a  Technology   \n",
      "13  8.562174e+06      n/a     n/a  Technology   \n",
      "14  6.274417e+06      n/a    1999  Technology   \n",
      "15  3.967066e+07      n/a    1982  Technology   \n",
      "16  4.024508e+06      n/a     n/a  Technology   \n",
      "17  2.414471e+07      n/a     n/a  Technology   \n",
      "18  2.689466e+07      n/a     n/a  Technology   \n",
      "19  1.916447e+07      n/a    1998  Technology   \n",
      "20  3.300193e+07      n/a     n/a  Technology   \n",
      "21  8.621348e+06      n/a    1997  Technology   \n",
      "22  4.703419e+07      n/a    1998  Technology   \n",
      "23  2.880961e+07      n/a     n/a  Technology   \n",
      "24  1.360077e+07      n/a     n/a  Technology   \n",
      "25  2.601055e+07      n/a     n/a  Technology   \n",
      "26  4.445595e+07      n/a     n/a  Technology   \n",
      "27  0.000000e+00      n/a     n/a  Technology   \n",
      "28  0.000000e+00      n/a     n/a  Technology   \n",
      "29  2.796215e+07      n/a     n/a  Technology   \n",
      "..           ...      ...     ...         ...   \n",
      "61  2.462369e+07      n/a    2013  Technology   \n",
      "62  5.921855e+06      n/a    2000  Technology   \n",
      "63  3.006874e+07      n/a     n/a  Technology   \n",
      "64  2.814766e+07      n/a     n/a  Technology   \n",
      "65  1.421659e+07      n/a    2007  Technology   \n",
      "66  1.149653e+07      n/a    2010  Technology   \n",
      "67  1.611873e+07      n/a    2010  Technology   \n",
      "68  4.287898e+07      n/a     n/a  Technology   \n",
      "69  2.184890e+07      n/a    1994  Technology   \n",
      "70  1.996555e+07      n/a    1995  Technology   \n",
      "71  2.228874e+07      n/a    2000  Technology   \n",
      "72  4.338173e+07      n/a     n/a  Technology   \n",
      "73  1.982203e+07      n/a     n/a  Technology   \n",
      "74  2.232249e+07      n/a     n/a  Technology   \n",
      "75  2.848896e+07      n/a     n/a  Technology   \n",
      "76  1.009478e+07      n/a    1996  Technology   \n",
      "77  3.400191e+07      n/a     n/a  Technology   \n",
      "78  4.431174e+07      n/a     n/a  Technology   \n",
      "79  6.848474e+06      n/a    1993  Technology   \n",
      "80  4.009092e+07      n/a    2000  Technology   \n",
      "81  4.872243e+06      n/a    2014  Technology   \n",
      "82  5.059662e+06      n/a     n/a  Technology   \n",
      "83  2.956656e+07      n/a    1996  Technology   \n",
      "84  4.762270e+07      n/a    1996  Technology   \n",
      "85  1.138230e+07      n/a     n/a  Technology   \n",
      "86  1.137996e+07      n/a     n/a  Technology   \n",
      "87  2.179387e+07  3962522    2007  Technology   \n",
      "88  8.279118e+06      n/a     n/a  Technology   \n",
      "89  2.660201e+07      n/a     n/a  Technology   \n",
      "90  3.407827e+07      n/a    2016  Technology   \n",
      "\n",
      "                                             Industry  \\\n",
      "0                                      Semiconductors   \n",
      "1                     Diversified Commercial Services   \n",
      "2   Radio And Television Broadcasting And Communic...   \n",
      "3                   Computer Communications Equipment   \n",
      "4   Radio And Television Broadcasting And Communic...   \n",
      "5             Computer Software: Prepackaged Software   \n",
      "6             Computer Software: Prepackaged Software   \n",
      "7                     Industrial Machinery/Components   \n",
      "8             Computer Software: Prepackaged Software   \n",
      "9     Computer Software: Programming, Data Processing   \n",
      "10                    Industrial Machinery/Components   \n",
      "11            Computer Software: Prepackaged Software   \n",
      "12                  Computer Communications Equipment   \n",
      "13            Computer Software: Prepackaged Software   \n",
      "14                      Computer peripheral equipment   \n",
      "15                                       EDP Services   \n",
      "16                              Electronic Components   \n",
      "17            Computer Software: Prepackaged Software   \n",
      "18  Radio And Television Broadcasting And Communic...   \n",
      "19                  Computer Communications Equipment   \n",
      "20                                       EDP Services   \n",
      "21                                Electrical Products   \n",
      "22                                       EDP Services   \n",
      "23            Computer Software: Prepackaged Software   \n",
      "24    Computer Software: Programming, Data Processing   \n",
      "25            Computer Software: Prepackaged Software   \n",
      "26                    Diversified Commercial Services   \n",
      "27                    Diversified Commercial Services   \n",
      "28                    Diversified Commercial Services   \n",
      "29    Computer Software: Programming, Data Processing   \n",
      "..                                                ...   \n",
      "61    Computer Software: Programming, Data Processing   \n",
      "62                              Electronic Components   \n",
      "63                    Diversified Commercial Services   \n",
      "64            Computer Software: Prepackaged Software   \n",
      "65                                     Semiconductors   \n",
      "66                                     Semiconductors   \n",
      "67  Radio And Television Broadcasting And Communic...   \n",
      "68            Computer Software: Prepackaged Software   \n",
      "69                                Electrical Products   \n",
      "70            Computer Software: Prepackaged Software   \n",
      "71                                Electrical Products   \n",
      "72                                        Advertising   \n",
      "73                             Computer Manufacturing   \n",
      "74  Radio And Television Broadcasting And Communic...   \n",
      "75                                       EDP Services   \n",
      "76                              Professional Services   \n",
      "77                                       EDP Services   \n",
      "78                                     Semiconductors   \n",
      "79  Radio And Television Broadcasting And Communic...   \n",
      "80                                       EDP Services   \n",
      "81                                       EDP Services   \n",
      "82  Radio And Television Broadcasting And Communic...   \n",
      "83                      Computer peripheral equipment   \n",
      "84                      Computer peripheral equipment   \n",
      "85                    Industrial Machinery/Components   \n",
      "86                                       EDP Services   \n",
      "87                                        Advertising   \n",
      "88                    Industrial Machinery/Components   \n",
      "89                             Computer Manufacturing   \n",
      "90            Computer Software: Prepackaged Software   \n",
      "\n",
      "                         Summary Quote  \n",
      "0    http://www.nasdaq.com/symbol/iots  \n",
      "1     http://www.nasdaq.com/symbol/acy  \n",
      "2     http://www.nasdaq.com/symbol/wga  \n",
      "3    http://www.nasdaq.com/symbol/bosc  \n",
      "4     http://www.nasdaq.com/symbol/bdr  \n",
      "5    http://www.nasdaq.com/symbol/blin  \n",
      "6    http://www.nasdaq.com/symbol/bvsn  \n",
      "7     http://www.nasdaq.com/symbol/cvr  \n",
      "8    http://www.nasdaq.com/symbol/cnit  \n",
      "9    http://www.nasdaq.com/symbol/cnet  \n",
      "10   http://www.nasdaq.com/symbol/clnt  \n",
      "11   http://www.nasdaq.com/symbol/cnxr  \n",
      "12   http://www.nasdaq.com/symbol/coyn  \n",
      "13   http://www.nasdaq.com/symbol/cpah  \n",
      "14   http://www.nasdaq.com/symbol/crds  \n",
      "15   http://www.nasdaq.com/symbol/cspi  \n",
      "16   http://www.nasdaq.com/symbol/dram  \n",
      "17   http://www.nasdaq.com/symbol/dtrm  \n",
      "18   http://www.nasdaq.com/symbol/dgly  \n",
      "19   http://www.nasdaq.com/symbol/elon  \n",
      "20   http://www.nasdaq.com/symbol/efut  \n",
      "21   http://www.nasdaq.com/symbol/eltk  \n",
      "22   http://www.nasdaq.com/symbol/evol  \n",
      "23   http://www.nasdaq.com/symbol/falc  \n",
      "24   http://www.nasdaq.com/symbol/fncx  \n",
      "25   http://www.nasdaq.com/symbol/fsnn  \n",
      "26    http://www.nasdaq.com/symbol/job  \n",
      "27  http://www.nasdaq.com/symbol/gfncp  \n",
      "28  http://www.nasdaq.com/symbol/gfnsl  \n",
      "29   http://www.nasdaq.com/symbol/gigm  \n",
      "..                                 ...  \n",
      "61   http://www.nasdaq.com/symbol/ipdn  \n",
      "62   http://www.nasdaq.com/symbol/qbak  \n",
      "63   http://www.nasdaq.com/symbol/qrhc  \n",
      "64   http://www.nasdaq.com/symbol/qumu  \n",
      "65   http://www.nasdaq.com/symbol/rbcn  \n",
      "66   http://www.nasdaq.com/symbol/leds  \n",
      "67   http://www.nasdaq.com/symbol/sgoc  \n",
      "68   http://www.nasdaq.com/symbol/shsp  \n",
      "69   http://www.nasdaq.com/symbol/sgma  \n",
      "70   http://www.nasdaq.com/symbol/smsi  \n",
      "71   http://www.nasdaq.com/symbol/smtx  \n",
      "72   http://www.nasdaq.com/symbol/srax  \n",
      "73   http://www.nasdaq.com/symbol/sckt  \n",
      "74   http://www.nasdaq.com/symbol/sofo  \n",
      "75    http://www.nasdaq.com/symbol/any  \n",
      "76   http://www.nasdaq.com/symbol/staf  \n",
      "77   http://www.nasdaq.com/symbol/strm  \n",
      "78   http://www.nasdaq.com/symbol/spcb  \n",
      "79   http://www.nasdaq.com/symbol/scon  \n",
      "80   http://www.nasdaq.com/symbol/sprt  \n",
      "81   http://www.nasdaq.com/symbol/syrx  \n",
      "82   http://www.nasdaq.com/symbol/tcco  \n",
      "83   http://www.nasdaq.com/symbol/tisa  \n",
      "84   http://www.nasdaq.com/symbol/tact  \n",
      "85    http://www.nasdaq.com/symbol/trt  \n",
      "86   http://www.nasdaq.com/symbol/tsri  \n",
      "87   http://www.nasdaq.com/symbol/visn  \n",
      "88   http://www.nasdaq.com/symbol/wsci  \n",
      "89   http://www.nasdaq.com/symbol/xplr  \n",
      "90   http://www.nasdaq.com/symbol/zdge  \n",
      "\n",
      "[91 rows x 9 columns]\n"
     ]
    }
   ],
   "source": [
    "cmplst = pd.read_csv('companylist.csv')\n",
    "print cmplst"
   ]
  },
  {
   "cell_type": "code",
   "execution_count": 7,
   "metadata": {
    "collapsed": false
   },
   "outputs": [],
   "source": [
    "google_username = 'captaincrunchandcereal@gmail.com'\n",
    "google_password = 'econ338202'\n",
    "\n",
    "path = \"\"\n",
    "\n",
    "#connect to Google\n",
    "pytrend = TrendReq(google_username, google_password, custom_useragent = 'My Pytrends Script')"
   ]
  },
  {
   "cell_type": "code",
   "execution_count": 8,
   "metadata": {
    "collapsed": true
   },
   "outputs": [],
   "source": [
    "def google_query(company):\n",
    "    trend_payload = {'q':company, 'date' : 'today 3-m'}\n",
    "    trend = pytrend.trend(trend_payload)\n",
    "    df1 = pytrend.trend(trend_payload, return_type = 'dataframe')\n",
    "    return df1"
   ]
  },
  {
   "cell_type": "code",
   "execution_count": 9,
   "metadata": {
    "collapsed": false
   },
   "outputs": [
    {
     "name": "stdout",
     "output_type": "stream",
     "text": [
      "1\n"
     ]
    },
    {
     "data": {
      "text/plain": [
       "88    WSCI\n",
       "89    XPLR\n",
       "90    ZDGE\n",
       "Name: Symbol, dtype: object"
      ]
     },
     "execution_count": 9,
     "metadata": {},
     "output_type": "execute_result"
    }
   ],
   "source": [
    "print 1 #google_query('AKER')\n",
    "#print cmplst.head(3)\n",
    "#print cmplst.T.ix[0].head(5)\n",
    "\n",
    "tickers = cmplst.T.ix[0]\n",
    "cmplst.T.ix[0].tail(3)"
   ]
  },
  {
   "cell_type": "code",
   "execution_count": null,
   "metadata": {
    "collapsed": false,
    "scrolled": true
   },
   "outputs": [],
   "source": [
    "#pizzadf=(google_query('pizza'))"
   ]
  },
  {
   "cell_type": "code",
   "execution_count": 10,
   "metadata": {
    "collapsed": true
   },
   "outputs": [],
   "source": [
    "def meanRevert(df,k=7,m=1):\n",
    "    mean = df[df.columns[0]].rolling(window = k).mean()\n",
    "    stddev = df[df.columns[0]].rolling(window = k).std()\n",
    "    buy=df[df.columns[0]]<(mean-m*stddev)\n",
    "    sell=df[df.columns[0]]>(mean+m*stddev)\n",
    "    Order=buy*1+sell*-1\n",
    "    df[\"Order\"] = Order\n",
    "    return df"
   ]
  },
  {
   "cell_type": "code",
   "execution_count": 11,
   "metadata": {
    "collapsed": false
   },
   "outputs": [
    {
     "ename": "NameError",
     "evalue": "name 'pizzadf' is not defined",
     "output_type": "error",
     "traceback": [
      "\u001b[0;31m---------------------------------------------------------------------------\u001b[0m",
      "\u001b[0;31mNameError\u001b[0m                                 Traceback (most recent call last)",
      "\u001b[0;32m<ipython-input-11-9e3a9567ae5b>\u001b[0m in \u001b[0;36m<module>\u001b[0;34m()\u001b[0m\n\u001b[0;32m----> 1\u001b[0;31m \u001b[1;32mprint\u001b[0m \u001b[0mmeanRevert\u001b[0m\u001b[1;33m(\u001b[0m\u001b[0mpizzadf\u001b[0m\u001b[1;33m,\u001b[0m \u001b[1;36m7\u001b[0m\u001b[1;33m,\u001b[0m \u001b[1;36m1\u001b[0m\u001b[1;33m)\u001b[0m\u001b[1;33m\u001b[0m\u001b[0m\n\u001b[0m",
      "\u001b[0;31mNameError\u001b[0m: name 'pizzadf' is not defined"
     ]
    }
   ],
   "source": [
    "print meanRevert(pizzadf, 7, 1)"
   ]
  },
  {
   "cell_type": "code",
   "execution_count": null,
   "metadata": {
    "collapsed": false
   },
   "outputs": [],
   "source": [
    "pizzadf[\"ADJ_Date\"] = pizzadf['Date'] + timedelta(days=2)\n",
    "#Note to self--the indices themselves are dates"
   ]
  },
  {
   "cell_type": "code",
   "execution_count": null,
   "metadata": {
    "collapsed": false
   },
   "outputs": [],
   "source": []
  },
  {
   "cell_type": "code",
   "execution_count": null,
   "metadata": {
    "collapsed": false
   },
   "outputs": [],
   "source": [
    "def task(i):\n",
    "    \n",
    "    #!git add .\n",
    "    #!git commit -m \"replace\"\n",
    "    #!git remote add origin https://github.com/robertgrote/jenkins.git\n",
    "    #!git remote -v\n",
    "    #!git push -f origin master\n",
    "    pass\n",
    "def job():\n",
    "    print (tickers[0])\n",
    "    df0 = google_query(tickers[0])\n",
    "    dflist = [df0]\n",
    "    for i in range(1,15):\n",
    "        print(i)\n",
    "        for t in range(600):\n",
    "            time.sleep(1)\n",
    "        dfi = google_query(tickers[i])\n",
    "        dflist.append(dfi)\n",
    "        print datetime.datetime.now()\n",
    "    masterdf = pd.concat(dflist, axis=1)\n",
    "    masterdf1 = buylist(signal_df(masterdf, k=7, m=1))\n",
    "    masterdf1.to_csv('masterdf1')\n",
    "    !git add .\n",
    "    !git commit -m \"replace\"\n",
    "    !git remote add origin https://github.com/captaincrunchandcereal/ECON338202.git\n",
    "    !git remote -v\n",
    "    !git push -f origin master\n",
    "    #Timer(40, task(i), ()).start()\n",
    "    #task(i)\n",
    "        \n",
    "#Note: Inconsistent lookback window of google trends data: on Friday, 11/18, I could use past 90 days' data up to 11/14\n",
    "#Fill in those essential missing values with rescaling of sampled hourly data from last 7 days?\n",
    "        \n",
    "#Get csvs to overwrite\n",
    "    \n",
    "#Note to self--get rid of tickers that don't get google search data: COYNW\n",
    "    \n",
    "#schedule.do(job)\n",
    "schedule.clear()\n",
    "schedule.every().day.at(\"16:51\").do(job)"
   ]
  },
  {
   "cell_type": "code",
   "execution_count": null,
   "metadata": {
    "collapsed": false,
    "scrolled": false
   },
   "outputs": [],
   "source": [
    "while True:\n",
    "    schedule.run_pending()\n",
    "    time.sleep(1)"
   ]
  },
  {
   "cell_type": "code",
   "execution_count": null,
   "metadata": {
    "collapsed": true
   },
   "outputs": [],
   "source": [
    "from __future__ import print_function"
   ]
  },
  {
   "cell_type": "code",
   "execution_count": 18,
   "metadata": {
    "collapsed": false
   },
   "outputs": [
    {
     "name": "stdout",
     "output_type": "stream",
     "text": [
      "Reinitialized existing Git repository in C:/Users/Jerry/Desktop/ECON3382/ECON338202/.git/\n"
     ]
    },
    {
     "name": "stderr",
     "output_type": "stream",
     "text": [
      "warning: LF will be replaced by CRLF in .ipynb_checkpoints/Untitled-checkpoint.ipynb.\n",
      "The file will have its original line endings in your working directory.\n",
      "warning: LF will be replaced by CRLF in Untitled.ipynb.\n",
      "The file will have its original line endings in your working directory.\n"
     ]
    },
    {
     "name": "stdout",
     "output_type": "stream",
     "text": [
      "[master 6a74f8c] aaa\n",
      " 12 files changed, 1448 insertions(+), 2134 deletions(-)\n",
      " delete mode 100644 ABEOW\n",
      " delete mode 100644 ACPW\n",
      " delete mode 100644 ACST\n",
      " delete mode 100644 ACUR\n",
      " delete mode 100644 AIII\n",
      " delete mode 100644 ATNM\n",
      " delete mode 100644 ATV\n",
      " delete mode 100644 PIH\n",
      " rewrite companylist.csv (99%)\n",
      " create mode 100644 companylist.csv.csv\n"
     ]
    },
    {
     "name": "stderr",
     "output_type": "stream",
     "text": [
      "fatal: remote origin already exists.\n"
     ]
    },
    {
     "name": "stdout",
     "output_type": "stream",
     "text": [
      "origin\thttps://github.com/captaincrunchandcereal/ECON338202.git (fetch)\n",
      "origin\thttps://github.com/captaincrunchandcereal/ECON338202.git (push)\n"
     ]
    },
    {
     "name": "stderr",
     "output_type": "stream",
     "text": [
      "git: 'credential---add' is not a git command. See 'git --help'.\n",
      "git: 'credential---add' is not a git command. See 'git --help'.\n",
      "git credential-'store store: -c: line 0: unexpected EOF while looking for matching `''\n",
      "git credential-'store store: -c: line 1: syntax error: unexpected end of file\n",
      "git credential-'store store: -c: line 0: unexpected EOF while looking for matching `''\n",
      "git credential-'store store: -c: line 1: syntax error: unexpected end of file\n",
      "git credential-'store store: -c: line 0: unexpected EOF while looking for matching `''\n",
      "git credential-'store store: -c: line 1: syntax error: unexpected end of file\n",
      "git credential-'store store: -c: line 0: unexpected EOF while looking for matching `''\n",
      "git credential-'store store: -c: line 1: syntax error: unexpected end of file\n",
      "git credential-'store store: -c: line 0: unexpected EOF while looking for matching `''\n",
      "git credential-'store store: -c: line 1: syntax error: unexpected end of file\n",
      "git credential-'store store: -c: line 0: unexpected EOF while looking for matching `''\n",
      "git credential-'store store: -c: line 1: syntax error: unexpected end of file\n",
      "git credential-'store store: -c: line 0: unexpected EOF while looking for matching `''\n",
      "git credential-'store store: -c: line 1: syntax error: unexpected end of file\n",
      "git credential-'store store: -c: line 0: unexpected EOF while looking for matching `''\n",
      "git credential-'store store: -c: line 1: syntax error: unexpected end of file\n",
      "To https://github.com/captaincrunchandcereal/ECON338202.git\n",
      "   36c28d6..6a74f8c  master -> master\n"
     ]
    }
   ],
   "source": [
    "!git init\n",
    "!git add .\n",
    "!git commit -m \"aaa\"\n",
    "!git remote add origin https://github.com/captaincrunchandcereal/ECON338202.git\n",
    "!git remote -v\n",
    "!git push -f origin master"
   ]
  },
  {
   "cell_type": "code",
   "execution_count": null,
   "metadata": {
    "collapsed": false
   },
   "outputs": [],
   "source": [
    "trialdf = pd.read_csv('masterdf')\n",
    "print trialdf.head()"
   ]
  },
  {
   "cell_type": "code",
   "execution_count": null,
   "metadata": {
    "collapsed": false
   },
   "outputs": [],
   "source": [
    "def buysignal(df,i,k=7,m=1):\n",
    "    mean = df[df.columns[i]].rolling(window = k).mean()\n",
    "    stddev = df[df.columns[i]].rolling(window = k).std()\n",
    "    buy=df[df.columns[i]]>(mean-m*stddev)\n",
    "    order=buy*1\n",
    "    return order\n",
    "\n",
    "def signal_df(df, k=7, m=1):\n",
    "    df2=df\n",
    "    for i in range(1, len(df.columns)):\n",
    "        df2[str(df.columns[i])]=buysignal(df,i)\n",
    "    return df2\n",
    "print trialdf.head(5)\n",
    "print signal_df(trialdf).head(5)\n",
    "print trialdf.head(5)"
   ]
  },
  {
   "cell_type": "code",
   "execution_count": null,
   "metadata": {
    "collapsed": false,
    "scrolled": true
   },
   "outputs": [],
   "source": [
    "def buylist(dummydf):\n",
    "    datelist = dummydf['Date']\n",
    "    #print datelist\n",
    "    bigbuylist = []\n",
    "    for row in range(len(dummydf)): \n",
    "        littlebuylist=[]\n",
    "        for column in range(1, len(dummydf.columns)):\n",
    "            if dummydf.ix[row,column] == 1:\n",
    "                littlebuylist.append(dummydf.columns[column])\n",
    "        bigbuylist.append(littlebuylist)\n",
    "    #print bigbuylist\n",
    "    return pd.DataFrame({\"Date\": datelist,\n",
    "                        \"BuyList\": bigbuylist}).set_index('Date')\n",
    "    #df3.tshift(3)#freq='D'\n",
    "    #return df3\n",
    "                \n",
    "        #for column in range(len(dummydf.columns)):\n",
    "        #    print str(dummydf.columns[column])   #(dummydf[column])\n",
    "        #for row in dummydf.iloc[numberrows]:\n",
    "        #    append \n",
    "        #    print row\n",
    "        #    if row == 1:\n",
    "                \n",
    "        #for i in range(0, len(dummydf.columns)):\n",
    "            #print row\n",
    "        \n",
    "print buylist(trialdf)\n"
   ]
  },
  {
   "cell_type": "code",
   "execution_count": 16,
   "metadata": {
    "collapsed": false
   },
   "outputs": [],
   "source": [
    "def buysignal(df,i,k=7,m=1):\n",
    "    mean = df[df.columns[i]].rolling(window = k).mean()\n",
    "    stddev = df[df.columns[i]].rolling(window = k).std()\n",
    "    buy=df[df.columns[i]]>(mean-m*stddev)\n",
    "    order=buy*1\n",
    "    return order\n",
    "\n",
    "def signal_df(df, k=7, m=1):\n",
    "    df2=df\n",
    "    for i in range(1, len(df.columns)):\n",
    "        df2[str(df.columns[i])]=buysignal(df,i)\n",
    "    return df2\n",
    "\n",
    "def buylist(dummydf):\n",
    "    datelist = dummydf['Date']\n",
    "    #print datelist\n",
    "    bigbuylist = []\n",
    "    for row in range(len(dummydf)): \n",
    "        littlebuylist=[]\n",
    "        for column in range(1, len(dummydf.columns)):\n",
    "            if dummydf.ix[row,column] == 1:\n",
    "                littlebuylist.append(dummydf.columns[column])\n",
    "        bigbuylist.append(littlebuylist)\n",
    "    #print bigbuylist\n",
    "    return pd.DataFrame({\"Date\": datelist,\n",
    "                         \"BuyList\": bigbuylist}).set_index('Date')\n"
   ]
  },
  {
   "cell_type": "code",
   "execution_count": null,
   "metadata": {
    "collapsed": false
   },
   "outputs": [],
   "source": [
    "print trialdf['Date'].head()"
   ]
  },
  {
   "cell_type": "code",
   "execution_count": null,
   "metadata": {
    "collapsed": false
   },
   "outputs": [],
   "source": [
    "trialdf['Date'][0] + relativedelta(months=0, days=1)"
   ]
  },
  {
   "cell_type": "code",
   "execution_count": null,
   "metadata": {
    "collapsed": false
   },
   "outputs": [],
   "source": [
    "print type(DateOffset(months=0, days=1))"
   ]
  },
  {
   "cell_type": "code",
   "execution_count": null,
   "metadata": {
    "collapsed": false
   },
   "outputs": [],
   "source": [
    "print datetime.datetime.now()"
   ]
  },
  {
   "cell_type": "code",
   "execution_count": null,
   "metadata": {
    "collapsed": true
   },
   "outputs": [],
   "source": [
    "from datetime import date, timedelta\n",
    "from dateutil.relativedelta import relativedelta"
   ]
  },
  {
   "cell_type": "code",
   "execution_count": null,
   "metadata": {
    "collapsed": false
   },
   "outputs": [],
   "source": [
    "ts = time.strftime('%Y-%m-%d 00:00:00', time.strptime(trialdf['Date'][0],'%Y-%m-%d'))\n",
    "print ts\n",
    "print type(ts), type(relativedelta(months=0,days=1))\n",
    "print ts + relativedelta(months=0, days=1)\n"
   ]
  },
  {
   "cell_type": "code",
   "execution_count": null,
   "metadata": {
    "collapsed": false
   },
   "outputs": [],
   "source": [
    "print time.strptime(trialdf['Date'][0],'%Y-%m-%d')\n",
    "print DateOffset(months=0, days=1)\n",
    "print relativedelta(months=0, days=1)\n",
    "#print time.strftime(\"<DateOffset: kwds={'months': %m, 'days': %d>\"}, ) \n",
    "\n",
    "#print time.strptime(trialdf['Date'][0],'%Y-%m-%d') + ('1','0','0','0','0','0','0','0')"
   ]
  },
  {
   "cell_type": "code",
   "execution_count": null,
   "metadata": {
    "collapsed": false
   },
   "outputs": [],
   "source": [
    "print time.strftime(\"<DateOffset: kwds={'months': %m, 'days': %d}>\", \n"
   ]
  },
  {
   "cell_type": "code",
   "execution_count": null,
   "metadata": {
    "collapsed": true
   },
   "outputs": [],
   "source": [
    "from pandas.tseries.offsets import *"
   ]
  },
  {
   "cell_type": "code",
   "execution_count": null,
   "metadata": {
    "collapsed": false
   },
   "outputs": [],
   "source": [
    "ryan.to_csv('ryan')\n",
    "!git add .\n",
    "!git commit -m \"replace\"\n",
    "!git remote add origin https://github.com/robertgrote/jenkins.git\n",
    "!git remote -v\n",
    "!git push -f origin master"
   ]
  },
  {
   "cell_type": "code",
   "execution_count": null,
   "metadata": {
    "collapsed": false
   },
   "outputs": [],
   "source": [
    "print tickers[1:4]\n",
    "\n",
    "        signal_df=[]\n",
    "        signal_df.columns=list(df.columns.values)"
   ]
  },
  {
   "cell_type": "code",
   "execution_count": null,
   "metadata": {
    "collapsed": false
   },
   "outputs": [],
   "source": [
    "#limit seems to around 6 queries--that is paced at every 3 minutes\n",
    "#Will already have to lower # trading on, but what does this mean for backtesting, too?\n",
    "#It will take longer--much longer\n",
    "#mechanize?\n",
    "#Multiple computers, etc.?"
   ]
  },
  {
   "cell_type": "code",
   "execution_count": null,
   "metadata": {
    "collapsed": false
   },
   "outputs": [],
   "source": []
  },
  {
   "cell_type": "code",
   "execution_count": null,
   "metadata": {
    "collapsed": false
   },
   "outputs": [],
   "source": []
  },
  {
   "cell_type": "code",
   "execution_count": null,
   "metadata": {
    "collapsed": true
   },
   "outputs": [],
   "source": []
  },
  {
   "cell_type": "code",
   "execution_count": null,
   "metadata": {
    "collapsed": false
   },
   "outputs": [],
   "source": []
  },
  {
   "cell_type": "code",
   "execution_count": null,
   "metadata": {
    "collapsed": false
   },
   "outputs": [],
   "source": []
  },
  {
   "cell_type": "code",
   "execution_count": null,
   "metadata": {
    "collapsed": false
   },
   "outputs": [],
   "source": [
    "%%cmd \\n git status \\n\n",
    "md C:\\Users\\Jerry\\Desktop\\ECON3382\\\n",
    "cd Desktop\\ECON3382\n",
    "git config --global user.name \"captaincrunchandcereal\"\n",
    "git config --global user.email \"captaincrunchandcereal@gmail.com\"\n",
    "git config --global credential.helper 'store econ338202'\n",
    "git clone https://github.com/captaincrunchandcereal/ECON338202.git\n",
    "#cd ECON338202\n",
    "#git add .\n",
    "#git commit -m \"First commit\"\n",
    "#git remote add origin https://github.com/captaincrunchandcereal/ECON338202.git\n",
    "#git remote -v\n",
    "#git push origin master\n",
    "''''''''''"
   ]
  },
  {
   "cell_type": "code",
   "execution_count": null,
   "metadata": {
    "collapsed": false
   },
   "outputs": [],
   "source": [
    "#%%cmd \\n git status \\git clone"
   ]
  },
  {
   "cell_type": "code",
   "execution_count": null,
   "metadata": {
    "collapsed": true
   },
   "outputs": [],
   "source": [
    "''''''''''\n",
    "def job():\n",
    "    for i in tickers:\n",
    "        google_query(i).to_csv(i)\n",
    "        !git add .\n",
    "        !git commit -m \"replace\"\n",
    "        !git remote add origin https://github.com/captaincrunchandcereal/ECON338202.git\n",
    "        !git remote -v\n",
    "        !git push -f origin master\n",
    "'''''''"
   ]
  }
 ],
 "metadata": {
  "anaconda-cloud": {},
  "kernelspec": {
   "display_name": "Python [conda root]",
   "language": "python",
   "name": "conda-root-py"
  },
  "language_info": {
   "codemirror_mode": {
    "name": "ipython",
    "version": 2
   },
   "file_extension": ".py",
   "mimetype": "text/x-python",
   "name": "python",
   "nbconvert_exporter": "python",
   "pygments_lexer": "ipython2",
   "version": "2.7.12"
  }
 },
 "nbformat": 4,
 "nbformat_minor": 1
}
